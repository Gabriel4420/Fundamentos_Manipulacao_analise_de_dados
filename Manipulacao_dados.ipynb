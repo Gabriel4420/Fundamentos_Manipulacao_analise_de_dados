{
  "nbformat": 4,
  "nbformat_minor": 0,
  "metadata": {
    "colab": {
      "name": "Manipulacao_dados.ipynb",
      "provenance": [],
      "mount_file_id": "1qHXIAfXBNnoiVLFsBLOe1gOlsHxQ1gQ8",
      "authorship_tag": "ABX9TyMnC/FadcPBWLuYn2ZXaVdw",
      "include_colab_link": true
    },
    "kernelspec": {
      "name": "python3",
      "display_name": "Python 3"
    }
  },
  "cells": [
    {
      "cell_type": "markdown",
      "metadata": {
        "id": "view-in-github",
        "colab_type": "text"
      },
      "source": [
        "<a href=\"https://colab.research.google.com/github/Gabriel4420/Fundamentos_Manipulacao_analise_de_dados/blob/master/Manipulacao_dados.ipynb\" target=\"_parent\"><img src=\"https://colab.research.google.com/assets/colab-badge.svg\" alt=\"Open In Colab\"/></a>"
      ]
    },
    {
      "cell_type": "markdown",
      "metadata": {
        "id": "qaA7d7bSPpvz",
        "colab_type": "text"
      },
      "source": [
        "# **Bem vindo ao curso de Fundamentos de manipulação e Análise de dados com Python**"
      ]
    },
    {
      "cell_type": "markdown",
      "metadata": {
        "id": "k_YwcXU96czD",
        "colab_type": "text"
      },
      "source": [
        "# **Importação do modulo pandas**"
      ]
    },
    {
      "cell_type": "code",
      "metadata": {
        "id": "eF_WlnHS6bhU",
        "colab_type": "code",
        "colab": {}
      },
      "source": [
        "import pandas as pd"
      ],
      "execution_count": 0,
      "outputs": []
    },
    {
      "cell_type": "markdown",
      "metadata": {
        "id": "VVBM72IuXCHH",
        "colab_type": "text"
      },
      "source": [
        "# **Explicações gerais**\n",
        "\n",
        "---\n"
      ]
    },
    {
      "cell_type": "markdown",
      "metadata": {
        "id": "irffcN18PUZJ",
        "colab_type": "text"
      },
      "source": [
        "A função responsavel por chamar os arquivos do tipo csv, txt e xlsx, são respectivamente, pd.read_csv(**string**, sep = **string**, skiprows = **int**, encoding = **string específica**) e pd.read_excel(**string**, sheet_name = **string**, skiprows = **int**).\n",
        "\n",
        "\n",
        "\n",
        "1.   Nome do arquivo\n",
        "2.   string que separa os dados no arquivo\n",
        "3.   Quantidade de linhas a serem puladas \n",
        "4.   Como o arquivo está codificado: utf-8 ou latin-1, caso seja, CSV ou TXT, respectivamente."
      ]
    },
    {
      "cell_type": "markdown",
      "metadata": {
        "id": "Achh7_V68Sp0",
        "colab_type": "text"
      },
      "source": [
        "# **Arquivos CSV e TXT**"
      ]
    },
    {
      "cell_type": "markdown",
      "metadata": {
        "id": "SoSI3BcQ7qY-",
        "colab_type": "text"
      },
      "source": [
        "### **Leitura de arquivos**\n",
        "\n",
        "---\n",
        "\n"
      ]
    },
    {
      "cell_type": "code",
      "metadata": {
        "id": "YQKlTJvO7YAV",
        "colab_type": "code",
        "colab": {}
      },
      "source": [
        "df_lista_de_materiais = pd.read_csv('materiais.csv', sep=';',skiprows=0,encoding='utf-8')"
      ],
      "execution_count": 0,
      "outputs": []
    },
    {
      "cell_type": "code",
      "metadata": {
        "id": "xG-mGhT7VH2w",
        "colab_type": "code",
        "colab": {}
      },
      "source": [
        "df_lista_de_materiais['Material'].loc[0]"
      ],
      "execution_count": 0,
      "outputs": []
    },
    {
      "cell_type": "code",
      "metadata": {
        "id": "UwP_5gnAVg8H",
        "colab_type": "code",
        "colab": {}
      },
      "source": [
        "df_listar_pedidos = pd.read_csv('pedidos.txt',sep='|', skiprows=2, encoding='latin-1')"
      ],
      "execution_count": 0,
      "outputs": []
    },
    {
      "cell_type": "code",
      "metadata": {
        "id": "K_Kgk26lV9m7",
        "colab_type": "code",
        "colab": {}
      },
      "source": [
        "df_listar_pedidos"
      ],
      "execution_count": 0,
      "outputs": []
    },
    {
      "cell_type": "markdown",
      "metadata": {
        "id": "Ba0p4vUN3Hkc",
        "colab_type": "text"
      },
      "source": [
        "### **Renomear Colunas 1° Formato**  \n",
        "\n",
        "---\n",
        "\n"
      ]
    },
    {
      "cell_type": "markdown",
      "metadata": {
        "id": "mblFy_wOOd6t",
        "colab_type": "text"
      },
      "source": [
        "**Função rename**\n",
        "\n",
        "dataframe.rename(columns=**dict**)\n",
        "\n",
        "dict = {'coluna_antiga':'coluna_nova'}"
      ]
    },
    {
      "cell_type": "code",
      "metadata": {
        "id": "BUsQpoRz2cd-",
        "colab_type": "code",
        "colab": {}
      },
      "source": [
        "df_lista_de_materiais = df_lista_de_materiais.rename(columns={'Material':'material','Texto breve material':'texto_breve'})"
      ],
      "execution_count": 0,
      "outputs": []
    },
    {
      "cell_type": "code",
      "metadata": {
        "id": "UgdDAnz1Jrsw",
        "colab_type": "code",
        "colab": {}
      },
      "source": [
        "df_lista_de_materiais"
      ],
      "execution_count": 0,
      "outputs": []
    },
    {
      "cell_type": "markdown",
      "metadata": {
        "colab_type": "text",
        "id": "y-tUT3k-Mq2Q"
      },
      "source": [
        "### **Renomear Colunas 2° formato**\n",
        "\n",
        "---\n",
        "\n"
      ]
    },
    {
      "cell_type": "markdown",
      "metadata": {
        "id": "xHeyuoJ9OxAY",
        "colab_type": "text"
      },
      "source": [
        "**Função columns**\n",
        "\n",
        "dataframe.colums(columns=**lista**)\n",
        "\n",
        "lista = ['coluna_nova' , 'coluna_nova2']"
      ]
    },
    {
      "cell_type": "code",
      "metadata": {
        "id": "uVdzzhO3KlPA",
        "colab_type": "code",
        "colab": {}
      },
      "source": [
        "df_listar_pedidos.columns = ['cod_fornecedor','material','qtd_pedido','text_breve','qtd_estoque']"
      ],
      "execution_count": 0,
      "outputs": []
    },
    {
      "cell_type": "code",
      "metadata": {
        "id": "71kEZKiWK_tv",
        "colab_type": "code",
        "colab": {}
      },
      "source": [
        "df_listar_pedidos"
      ],
      "execution_count": 0,
      "outputs": []
    },
    {
      "cell_type": "markdown",
      "metadata": {
        "id": "dEa-rqK2P9WZ",
        "colab_type": "text"
      },
      "source": [
        "### **Deletando Colunas - 1° método**\n",
        "\n",
        "---\n",
        "\n"
      ]
    },
    {
      "cell_type": "markdown",
      "metadata": {
        "id": "plH2DV05RND3",
        "colab_type": "text"
      },
      "source": [
        "uso >> dataframe.drop(**lista**, axis = **string_especifica** ou **int**)"
      ]
    },
    {
      "cell_type": "markdown",
      "metadata": {
        "id": "gR4R7R3PRpw_",
        "colab_type": "text"
      },
      "source": [
        "1. Lista de nomes de colunas ou index de linhas a serem deletados\n",
        "\n",
        "2. 'columns' ou 'index'\n",
        "\n",
        "3. **1** (colunas) ou **0** (linhas)"
      ]
    },
    {
      "cell_type": "code",
      "metadata": {
        "id": "YSrFjgmnQBaP",
        "colab_type": "code",
        "colab": {}
      },
      "source": [
        "df_lista_de_materiais = df_lista_de_materiais.drop(['texto_breve'],axis='columns')"
      ],
      "execution_count": 0,
      "outputs": []
    },
    {
      "cell_type": "markdown",
      "metadata": {
        "id": "hP9omGqEUBBr",
        "colab_type": "text"
      },
      "source": [
        "### **Deletando Colunas - 2° método**\n",
        "\n",
        "---\n",
        "\n"
      ]
    },
    {
      "cell_type": "markdown",
      "metadata": {
        "id": "-MANiLAFUPzX",
        "colab_type": "text"
      },
      "source": [
        "uso >> dataframe[**lista**].copy()\n",
        "\n",
        "\n",
        "1.   lista = ['colunas a manter']\n",
        "\n",
        "resultado final >> dataframe[['colunas a manter']].copy()\n"
      ]
    },
    {
      "cell_type": "code",
      "metadata": {
        "id": "rakj2jDbUOXI",
        "colab_type": "code",
        "colab": {}
      },
      "source": [
        "df_listar_pedidos = df_listar_pedidos[['material','qtd_pedido','qtd_estoque']].copy()"
      ],
      "execution_count": 0,
      "outputs": []
    },
    {
      "cell_type": "markdown",
      "metadata": {
        "id": "pIekZGwTWsMR",
        "colab_type": "text"
      },
      "source": [
        "### **verificando tipos de colunas**\n",
        "\n",
        "---\n",
        "\n"
      ]
    },
    {
      "cell_type": "markdown",
      "metadata": {
        "id": "fHs8suAVW0uB",
        "colab_type": "text"
      },
      "source": [
        "dataframe.dtypes(para verificar tipos de todas as colunas)\n",
        "\n",
        "dataframe['coluna'].dtype"
      ]
    },
    {
      "cell_type": "code",
      "metadata": {
        "id": "-nqk49Z-WzJk",
        "colab_type": "code",
        "colab": {
          "base_uri": "https://localhost:8080/",
          "height": 51
        },
        "outputId": "eaebb46c-b190-4611-a1a9-4e187f73a24e"
      },
      "source": [
        "df_lista_de_materiais.dtypes"
      ],
      "execution_count": 42,
      "outputs": [
        {
          "output_type": "execute_result",
          "data": {
            "text/plain": [
              "material    int64\n",
              "dtype: object"
            ]
          },
          "metadata": {
            "tags": []
          },
          "execution_count": 42
        }
      ]
    },
    {
      "cell_type": "code",
      "metadata": {
        "id": "6N1JuVaiYPKM",
        "colab_type": "code",
        "colab": {
          "base_uri": "https://localhost:8080/",
          "height": 85
        },
        "outputId": "2a367ec7-89c0-4608-c4b2-a5ac5f91d35d"
      },
      "source": [
        "df_listar_pedidos.dtypes"
      ],
      "execution_count": 44,
      "outputs": [
        {
          "output_type": "execute_result",
          "data": {
            "text/plain": [
              "material       float64\n",
              "qtd_pedido       int64\n",
              "qtd_estoque      int64\n",
              "dtype: object"
            ]
          },
          "metadata": {
            "tags": []
          },
          "execution_count": 44
        }
      ]
    },
    {
      "cell_type": "markdown",
      "metadata": {
        "id": "i0fsLeocYfDO",
        "colab_type": "text"
      },
      "source": [
        "### **Alterando tipo de colunas - Método 1**"
      ]
    },
    {
      "cell_type": "markdown",
      "metadata": {
        "id": "UIZ9er1XYjgg",
        "colab_type": "text"
      },
      "source": [
        "Alterando o tipo de apenas uma coluna: \n",
        "dataframe['coluna'].astype(palavra reservada)\n",
        "\n",
        "palavra reservada = str, int, float ou bool"
      ]
    },
    {
      "cell_type": "code",
      "metadata": {
        "id": "-IsyjR9rhXtD",
        "colab_type": "code",
        "colab": {}
      },
      "source": [
        "df_lista_de_materiais['material'] = df_lista_de_materiais['material'].astype(int)"
      ],
      "execution_count": 0,
      "outputs": []
    },
    {
      "cell_type": "code",
      "metadata": {
        "id": "fCokdwRvhxAi",
        "colab_type": "code",
        "colab": {}
      },
      "source": [
        "df_lista_de_materiais.dtypes"
      ],
      "execution_count": 0,
      "outputs": []
    },
    {
      "cell_type": "markdown",
      "metadata": {
        "id": "UDUf5EqRiWWE",
        "colab_type": "text"
      },
      "source": [
        "### **Alterando tipo de colunas - Método 2**\n",
        "\n",
        "---\n",
        "\n"
      ]
    },
    {
      "cell_type": "markdown",
      "metadata": {
        "id": "EhJFSFbsih18",
        "colab_type": "text"
      },
      "source": [
        "Transformando mais de uma coluna ao mesmo tempo \n",
        "\n",
        "dataframe[ ['x' , 'y'] ] = dataframe[ ['x' , 'y'] ].  astype(float)"
      ]
    },
    {
      "cell_type": "markdown",
      "metadata": {
        "colab_type": "text",
        "id": "AdZEFgott1Aa"
      },
      "source": [
        "### **Agrupando dados**\n",
        "\n",
        "---\n",
        "\n"
      ]
    },
    {
      "cell_type": "markdown",
      "metadata": {
        "colab_type": "text",
        "id": "zQ26HFuNt1Ap"
      },
      "source": [
        "uso >> dataframe.groupby(**lista**).agg(**dict**).reset_index(valor padrão de drop=**False**)\n",
        "\n",
        "1. **lista** = [colunas a serem agrupadas]\n",
        "2. **dict** = {'coluna_x':'function:sum,max,min,first e etc...'}\n"
      ]
    },
    {
      "cell_type": "code",
      "metadata": {
        "colab_type": "code",
        "id": "JkGM3WZct1Aq",
        "colab": {}
      },
      "source": [
        "df_listar_pedidos = df_listar_pedidos.groupby(['material']).agg({'qtd_pedido':'sum','qtd_estoque':'sum'}).reset_index()"
      ],
      "execution_count": 0,
      "outputs": []
    },
    {
      "cell_type": "code",
      "metadata": {
        "id": "DA98H26yudeW",
        "colab_type": "code",
        "colab": {}
      },
      "source": [
        "df_listar_pedidos"
      ],
      "execution_count": 0,
      "outputs": []
    },
    {
      "cell_type": "markdown",
      "metadata": {
        "id": "sOq-Exzi8IWM",
        "colab_type": "text"
      },
      "source": [
        "# **Arquivos XLSX**"
      ]
    },
    {
      "cell_type": "markdown",
      "metadata": {
        "id": "lB6BAS_93DU6",
        "colab_type": "text"
      },
      "source": [
        "### **Leitura de dados**"
      ]
    },
    {
      "cell_type": "code",
      "metadata": {
        "id": "H43YXHk38PZi",
        "colab_type": "code",
        "colab": {}
      },
      "source": [
        "df_vendas = pd.read_excel('vendas_1.xlsx',sheet_name='vendas',skiprows=0)"
      ],
      "execution_count": 0,
      "outputs": []
    },
    {
      "cell_type": "code",
      "metadata": {
        "id": "l2BmG8I12qaD",
        "colab_type": "code",
        "colab": {}
      },
      "source": [
        "df_vendas2 = pd.read_excel('vendas_2.xlsx',sheet_name=0,skiprows=0)"
      ],
      "execution_count": 0,
      "outputs": []
    },
    {
      "cell_type": "code",
      "metadata": {
        "id": "UqKBd9orWzu6",
        "colab_type": "code",
        "colab": {}
      },
      "source": [
        "df_vendas"
      ],
      "execution_count": 0,
      "outputs": []
    },
    {
      "cell_type": "markdown",
      "metadata": {
        "colab_type": "text",
        "id": "vqYhdTSHLtHH"
      },
      "source": [
        "### **Renomear Colunas** \n",
        "\n",
        "---\n",
        "\n"
      ]
    },
    {
      "cell_type": "markdown",
      "metadata": {
        "id": "x5d0NxQqPGCZ",
        "colab_type": "text"
      },
      "source": [
        "Os mesmos métodos mencionados acima funcionam igualmente para arquivos xlsx."
      ]
    },
    {
      "cell_type": "code",
      "metadata": {
        "id": "WIvocJuVLGA3",
        "colab_type": "code",
        "colab": {}
      },
      "source": [
        "df_vendas.columns = ['data','material','qtd_vendas_faturadas']"
      ],
      "execution_count": 0,
      "outputs": []
    },
    {
      "cell_type": "code",
      "metadata": {
        "id": "Ip47CWu4LSvk",
        "colab_type": "code",
        "colab": {}
      },
      "source": [
        "df_vendas2.columns = ['data','material','qtd_vendas_faturadas']"
      ],
      "execution_count": 0,
      "outputs": []
    },
    {
      "cell_type": "code",
      "metadata": {
        "id": "jpUluCD_LWPw",
        "colab_type": "code",
        "colab": {}
      },
      "source": [
        "df_vendas"
      ],
      "execution_count": 0,
      "outputs": []
    },
    {
      "cell_type": "code",
      "metadata": {
        "id": "bgir1v0kLY3Q",
        "colab_type": "code",
        "colab": {}
      },
      "source": [
        "df_vendas2"
      ],
      "execution_count": 0,
      "outputs": []
    },
    {
      "cell_type": "markdown",
      "metadata": {
        "id": "3VoXG5YIVVJQ",
        "colab_type": "text"
      },
      "source": [
        "### **Deletando Colunas**\n",
        "\n",
        "---\n",
        "\n"
      ]
    },
    {
      "cell_type": "code",
      "metadata": {
        "id": "G3mprY4gVa6Q",
        "colab_type": "code",
        "colab": {}
      },
      "source": [
        "df_vendas = df_vendas[['material','qtd_vendas_faturadas']].copy()"
      ],
      "execution_count": 0,
      "outputs": []
    },
    {
      "cell_type": "code",
      "metadata": {
        "id": "y6iuW_1aV0Pz",
        "colab_type": "code",
        "colab": {}
      },
      "source": [
        "df_vendas2 = df_vendas2.drop(['data'],axis='columns')"
      ],
      "execution_count": 0,
      "outputs": []
    },
    {
      "cell_type": "markdown",
      "metadata": {
        "id": "R4k0wov_X81p",
        "colab_type": "text"
      },
      "source": [
        "### **Verificando tipos de colunas**\n",
        "\n",
        "---\n",
        "\n"
      ]
    },
    {
      "cell_type": "code",
      "metadata": {
        "id": "_UXMmDbUYHGA",
        "colab_type": "code",
        "colab": {}
      },
      "source": [
        "df_vendas.dtypes"
      ],
      "execution_count": 0,
      "outputs": []
    },
    {
      "cell_type": "code",
      "metadata": {
        "id": "NReoRijrYU1k",
        "colab_type": "code",
        "colab": {}
      },
      "source": [
        "df_vendas2.dtypes"
      ],
      "execution_count": 0,
      "outputs": []
    },
    {
      "cell_type": "markdown",
      "metadata": {
        "id": "hL6C17-Wj1cI",
        "colab_type": "text"
      },
      "source": [
        "### **Concatenação de tabelas**\n",
        "\n",
        "---\n",
        "\n"
      ]
    },
    {
      "cell_type": "markdown",
      "metadata": {
        "id": "L0uGvAJ3j9il",
        "colab_type": "text"
      },
      "source": [
        "uso >> pd.concat(**lista**)\n",
        "\n",
        "lista = [**lista de dataframes**]"
      ]
    },
    {
      "cell_type": "code",
      "metadata": {
        "id": "OwQrycs_kRC3",
        "colab_type": "code",
        "colab": {}
      },
      "source": [
        "df_vendasTotais = pd.concat([df_vendas,df_vendas2])"
      ],
      "execution_count": 0,
      "outputs": []
    },
    {
      "cell_type": "code",
      "metadata": {
        "id": "OGyVVZSWkmOK",
        "colab_type": "code",
        "colab": {}
      },
      "source": [
        "df_vendasTotais"
      ],
      "execution_count": 0,
      "outputs": []
    },
    {
      "cell_type": "code",
      "metadata": {
        "id": "m8reMs1aktet",
        "colab_type": "code",
        "colab": {
          "base_uri": "https://localhost:8080/",
          "height": 34
        },
        "outputId": "06f3ba86-8602-4843-e567-c2620d007b1d"
      },
      "source": [
        "df_vendas.shape"
      ],
      "execution_count": 52,
      "outputs": [
        {
          "output_type": "execute_result",
          "data": {
            "text/plain": [
              "(8657, 2)"
            ]
          },
          "metadata": {
            "tags": []
          },
          "execution_count": 52
        }
      ]
    },
    {
      "cell_type": "markdown",
      "metadata": {
        "id": "mIg91Z7nlfTU",
        "colab_type": "text"
      },
      "source": [
        "#### **Resetando um index**"
      ]
    },
    {
      "cell_type": "markdown",
      "metadata": {
        "id": "zQi28DnElkZ0",
        "colab_type": "text"
      },
      "source": [
        "uso >> dataframe.reset_index(drop=**bool**)\n",
        "\n",
        "drop = True or False"
      ]
    },
    {
      "cell_type": "code",
      "metadata": {
        "id": "8bJKtvvkluXs",
        "colab_type": "code",
        "colab": {}
      },
      "source": [
        "df_vendasTotais = df_vendasTotais.reset_index(drop=True)"
      ],
      "execution_count": 0,
      "outputs": []
    },
    {
      "cell_type": "code",
      "metadata": {
        "id": "WDyRclTwmVkU",
        "colab_type": "code",
        "colab": {}
      },
      "source": [
        "df_vendasTotais"
      ],
      "execution_count": 0,
      "outputs": []
    },
    {
      "cell_type": "markdown",
      "metadata": {
        "id": "dTqXyiNjq7Cy",
        "colab_type": "text"
      },
      "source": [
        "### **Agrupando dados**\n",
        "\n",
        "---\n",
        "\n"
      ]
    },
    {
      "cell_type": "markdown",
      "metadata": {
        "id": "DgmTKme3rAlU",
        "colab_type": "text"
      },
      "source": [
        "uso >> dataframe.groupby(**lista**).agg(**dict**).reset_index(valor padrão de drop=**False**)\n",
        "\n",
        "1. **lista** = [colunas a serem agrupadas]\n",
        "2. **dict** = {'coluna_x':'function:sum,max,min,first e etc...'}\n"
      ]
    },
    {
      "cell_type": "code",
      "metadata": {
        "id": "yOKylutVr0rO",
        "colab_type": "code",
        "colab": {}
      },
      "source": [
        "df_vendasTotais = df_vendasTotais.groupby(['material']).agg({'qtd_vendas_faturadas':'sum'}).reset_index()"
      ],
      "execution_count": 0,
      "outputs": []
    }
  ]
}