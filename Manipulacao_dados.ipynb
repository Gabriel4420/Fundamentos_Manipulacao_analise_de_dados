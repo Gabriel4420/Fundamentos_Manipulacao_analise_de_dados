{
  "nbformat": 4,
  "nbformat_minor": 0,
  "metadata": {
    "colab": {
      "name": "Manipulacao_dados.ipynb",
      "provenance": [],
      "toc_visible": true,
      "mount_file_id": "1qHXIAfXBNnoiVLFsBLOe1gOlsHxQ1gQ8",
      "authorship_tag": "ABX9TyMh9upIYpAUpAh9XPbcBBzk",
      "include_colab_link": true
    },
    "kernelspec": {
      "name": "python3",
      "display_name": "Python 3"
    }
  },
  "cells": [
    {
      "cell_type": "markdown",
      "metadata": {
        "id": "view-in-github",
        "colab_type": "text"
      },
      "source": [
        "<a href=\"https://colab.research.google.com/github/Gabriel4420/Fundamentos_Manipulacao_analise_de_dados/blob/master/Manipulacao_dados.ipynb\" target=\"_parent\"><img src=\"https://colab.research.google.com/assets/colab-badge.svg\" alt=\"Open In Colab\"/></a>"
      ]
    },
    {
      "cell_type": "markdown",
      "metadata": {
        "id": "qaA7d7bSPpvz",
        "colab_type": "text"
      },
      "source": [
        "# **Fundamentos de manipulação e Análise de dados com Python**"
      ]
    },
    {
      "cell_type": "markdown",
      "metadata": {
        "id": "k_YwcXU96czD",
        "colab_type": "text"
      },
      "source": [
        "# **Importação do modulo pandas**\n",
        "\n",
        "---\n",
        "\n"
      ]
    },
    {
      "cell_type": "code",
      "metadata": {
        "id": "eF_WlnHS6bhU",
        "colab_type": "code",
        "colab": {}
      },
      "source": [
        "import pandas as pd"
      ],
      "execution_count": 0,
      "outputs": []
    },
    {
      "cell_type": "markdown",
      "metadata": {
        "id": "VVBM72IuXCHH",
        "colab_type": "text"
      },
      "source": [
        "# **Explicações gerais**\n",
        "\n",
        "---\n",
        "\n",
        "\n",
        "\n"
      ]
    },
    {
      "cell_type": "markdown",
      "metadata": {
        "id": "irffcN18PUZJ",
        "colab_type": "text"
      },
      "source": [
        "A função responsavel por chamar os arquivos do tipo csv, txt e xlsx, são respectivamente, pd.read_csv(**string**, sep = **string**, skiprows = **int**, encoding = **string específica**) e pd.read_excel(**string**, sheet_name = **string**, skiprows = **int**).\n",
        "\n",
        "\n",
        "\n",
        "1.   Nome do arquivo\n",
        "2.   string que separa os dados no arquivo\n",
        "3.   Quantidade de linhas a serem puladas \n",
        "4.   Como o arquivo está codificado: utf-8 ou latin-1, caso seja, CSV ou TXT, respectivamente."
      ]
    },
    {
      "cell_type": "markdown",
      "metadata": {
        "id": "Achh7_V68Sp0",
        "colab_type": "text"
      },
      "source": [
        "# **Arquivos CSV e TXT**\n",
        "\n",
        "---\n",
        "\n"
      ]
    },
    {
      "cell_type": "markdown",
      "metadata": {
        "id": "SoSI3BcQ7qY-",
        "colab_type": "text"
      },
      "source": [
        "### **Leitura de arquivos**\n",
        "\n",
        "---\n",
        "\n"
      ]
    },
    {
      "cell_type": "code",
      "metadata": {
        "id": "YQKlTJvO7YAV",
        "colab_type": "code",
        "colab": {}
      },
      "source": [
        "df_lista_de_materiais = pd.read_csv('materiais.csv', sep=';',skiprows=0,encoding='utf-8')"
      ],
      "execution_count": 0,
      "outputs": []
    },
    {
      "cell_type": "code",
      "metadata": {
        "id": "xG-mGhT7VH2w",
        "colab_type": "code",
        "colab": {
          "base_uri": "https://localhost:8080/",
          "height": 34
        },
        "outputId": "c14fe141-7c6e-4059-d494-754658352ce3"
      },
      "source": [
        "df_lista_de_materiais['Material'].loc[0]"
      ],
      "execution_count": 3,
      "outputs": [
        {
          "output_type": "execute_result",
          "data": {
            "text/plain": [
              "4000010"
            ]
          },
          "metadata": {
            "tags": []
          },
          "execution_count": 3
        }
      ]
    },
    {
      "cell_type": "code",
      "metadata": {
        "id": "UwP_5gnAVg8H",
        "colab_type": "code",
        "colab": {}
      },
      "source": [
        "df_listar_pedidos = pd.read_csv('pedidos.txt',sep='|', skiprows=2, encoding='latin-1')"
      ],
      "execution_count": 0,
      "outputs": []
    },
    {
      "cell_type": "code",
      "metadata": {
        "id": "K_Kgk26lV9m7",
        "colab_type": "code",
        "colab": {
          "base_uri": "https://localhost:8080/",
          "height": 419
        },
        "outputId": "2a1f4d7f-44ea-4d20-cf03-9ece5687f3c5"
      },
      "source": [
        "df_listar_pedidos"
      ],
      "execution_count": 5,
      "outputs": [
        {
          "output_type": "execute_result",
          "data": {
            "text/html": [
              "<div>\n",
              "<style scoped>\n",
              "    .dataframe tbody tr th:only-of-type {\n",
              "        vertical-align: middle;\n",
              "    }\n",
              "\n",
              "    .dataframe tbody tr th {\n",
              "        vertical-align: top;\n",
              "    }\n",
              "\n",
              "    .dataframe thead th {\n",
              "        text-align: right;\n",
              "    }\n",
              "</style>\n",
              "<table border=\"1\" class=\"dataframe\">\n",
              "  <thead>\n",
              "    <tr style=\"text-align: right;\">\n",
              "      <th></th>\n",
              "      <th>Cod. fornecedor</th>\n",
              "      <th>Material</th>\n",
              "      <th>Qtd.pedido</th>\n",
              "      <th>Texto breve</th>\n",
              "      <th>Qtd.estoque</th>\n",
              "    </tr>\n",
              "  </thead>\n",
              "  <tbody>\n",
              "    <tr>\n",
              "      <th>0</th>\n",
              "      <td>3593</td>\n",
              "      <td>4003232.0</td>\n",
              "      <td>120</td>\n",
              "      <td>FLUCANIL 150MG</td>\n",
              "      <td>12</td>\n",
              "    </tr>\n",
              "    <tr>\n",
              "      <th>1</th>\n",
              "      <td>3593</td>\n",
              "      <td>4005091.0</td>\n",
              "      <td>60</td>\n",
              "      <td>BETRICORT CREME</td>\n",
              "      <td>6</td>\n",
              "    </tr>\n",
              "    <tr>\n",
              "      <th>2</th>\n",
              "      <td>3593</td>\n",
              "      <td>4003225.0</td>\n",
              "      <td>51</td>\n",
              "      <td>COLIRIO GEOLAB</td>\n",
              "      <td>5</td>\n",
              "    </tr>\n",
              "    <tr>\n",
              "      <th>3</th>\n",
              "      <td>3593</td>\n",
              "      <td>4003251.0</td>\n",
              "      <td>60</td>\n",
              "      <td>MIZONOL CREME</td>\n",
              "      <td>6</td>\n",
              "    </tr>\n",
              "    <tr>\n",
              "      <th>4</th>\n",
              "      <td>3593</td>\n",
              "      <td>4001716.0</td>\n",
              "      <td>20</td>\n",
              "      <td>GINO-COLON TUBO</td>\n",
              "      <td>2</td>\n",
              "    </tr>\n",
              "    <tr>\n",
              "      <th>...</th>\n",
              "      <td>...</td>\n",
              "      <td>...</td>\n",
              "      <td>...</td>\n",
              "      <td>...</td>\n",
              "      <td>...</td>\n",
              "    </tr>\n",
              "    <tr>\n",
              "      <th>1064</th>\n",
              "      <td>4239</td>\n",
              "      <td>4000333.0</td>\n",
              "      <td>1</td>\n",
              "      <td>CRESTOR 10MG</td>\n",
              "      <td>0</td>\n",
              "    </tr>\n",
              "    <tr>\n",
              "      <th>1065</th>\n",
              "      <td>4239</td>\n",
              "      <td>4003698.0</td>\n",
              "      <td>1</td>\n",
              "      <td>PANTOGAR C/90CP</td>\n",
              "      <td>0</td>\n",
              "    </tr>\n",
              "    <tr>\n",
              "      <th>1066</th>\n",
              "      <td>4239</td>\n",
              "      <td>4000359.0</td>\n",
              "      <td>1</td>\n",
              "      <td>XARELTO 15MG</td>\n",
              "      <td>0</td>\n",
              "    </tr>\n",
              "    <tr>\n",
              "      <th>1067</th>\n",
              "      <td>4239</td>\n",
              "      <td>4005114.0</td>\n",
              "      <td>1</td>\n",
              "      <td>ARADOIS H</td>\n",
              "      <td>0</td>\n",
              "    </tr>\n",
              "    <tr>\n",
              "      <th>1068</th>\n",
              "      <td>4239</td>\n",
              "      <td>4003731.0</td>\n",
              "      <td>1</td>\n",
              "      <td>DIOVAN 160MG</td>\n",
              "      <td>0</td>\n",
              "    </tr>\n",
              "  </tbody>\n",
              "</table>\n",
              "<p>1069 rows × 5 columns</p>\n",
              "</div>"
            ],
            "text/plain": [
              "      Cod. fornecedor   Material  Qtd.pedido      Texto breve  Qtd.estoque\n",
              "0                3593  4003232.0         120   FLUCANIL 150MG           12\n",
              "1                3593  4005091.0          60  BETRICORT CREME            6\n",
              "2                3593  4003225.0          51   COLIRIO GEOLAB            5\n",
              "3                3593  4003251.0          60    MIZONOL CREME            6\n",
              "4                3593  4001716.0          20  GINO-COLON TUBO            2\n",
              "...               ...        ...         ...              ...          ...\n",
              "1064             4239  4000333.0           1     CRESTOR 10MG            0\n",
              "1065             4239  4003698.0           1  PANTOGAR C/90CP            0\n",
              "1066             4239  4000359.0           1     XARELTO 15MG            0\n",
              "1067             4239  4005114.0           1        ARADOIS H            0\n",
              "1068             4239  4003731.0           1     DIOVAN 160MG            0\n",
              "\n",
              "[1069 rows x 5 columns]"
            ]
          },
          "metadata": {
            "tags": []
          },
          "execution_count": 5
        }
      ]
    },
    {
      "cell_type": "code",
      "metadata": {
        "id": "-CdoDpmpXOiV",
        "colab_type": "code",
        "colab": {}
      },
      "source": [
        "print('Lendo arquivos....')"
      ],
      "execution_count": 0,
      "outputs": []
    },
    {
      "cell_type": "markdown",
      "metadata": {
        "id": "Ba0p4vUN3Hkc",
        "colab_type": "text"
      },
      "source": [
        "### **Renomear Colunas 1° Formato**  \n",
        "\n",
        "---\n",
        "\n"
      ]
    },
    {
      "cell_type": "markdown",
      "metadata": {
        "id": "mblFy_wOOd6t",
        "colab_type": "text"
      },
      "source": [
        "**Função rename**\n",
        "\n",
        "dataframe.rename(columns=**dict**)\n",
        "\n",
        "dict = {'coluna_antiga':'coluna_nova'}"
      ]
    },
    {
      "cell_type": "code",
      "metadata": {
        "id": "BUsQpoRz2cd-",
        "colab_type": "code",
        "colab": {}
      },
      "source": [
        "df_lista_de_materiais = df_lista_de_materiais.rename(columns={'Material':'material','Texto breve material':'texto_breve'})"
      ],
      "execution_count": 0,
      "outputs": []
    },
    {
      "cell_type": "code",
      "metadata": {
        "id": "UgdDAnz1Jrsw",
        "colab_type": "code",
        "colab": {
          "base_uri": "https://localhost:8080/",
          "height": 419
        },
        "outputId": "6e905935-d349-4245-98b2-2c307491f064"
      },
      "source": [
        "df_lista_de_materiais"
      ],
      "execution_count": 7,
      "outputs": [
        {
          "output_type": "execute_result",
          "data": {
            "text/html": [
              "<div>\n",
              "<style scoped>\n",
              "    .dataframe tbody tr th:only-of-type {\n",
              "        vertical-align: middle;\n",
              "    }\n",
              "\n",
              "    .dataframe tbody tr th {\n",
              "        vertical-align: top;\n",
              "    }\n",
              "\n",
              "    .dataframe thead th {\n",
              "        text-align: right;\n",
              "    }\n",
              "</style>\n",
              "<table border=\"1\" class=\"dataframe\">\n",
              "  <thead>\n",
              "    <tr style=\"text-align: right;\">\n",
              "      <th></th>\n",
              "      <th>material</th>\n",
              "      <th>texto_breve</th>\n",
              "    </tr>\n",
              "  </thead>\n",
              "  <tbody>\n",
              "    <tr>\n",
              "      <th>0</th>\n",
              "      <td>4000010</td>\n",
              "      <td>ALCACHOFRA 300MG</td>\n",
              "    </tr>\n",
              "    <tr>\n",
              "      <th>1</th>\n",
              "      <td>4000013</td>\n",
              "      <td>ANTI-SEPTICO ANESTESICO</td>\n",
              "    </tr>\n",
              "    <tr>\n",
              "      <th>2</th>\n",
              "      <td>4000014</td>\n",
              "      <td>ASSEPTCARE SOL</td>\n",
              "    </tr>\n",
              "    <tr>\n",
              "      <th>3</th>\n",
              "      <td>4000015</td>\n",
              "      <td>ASSEPTCARE SOL</td>\n",
              "    </tr>\n",
              "    <tr>\n",
              "      <th>4</th>\n",
              "      <td>4000016</td>\n",
              "      <td>BENATUX FRAMBOESA</td>\n",
              "    </tr>\n",
              "    <tr>\n",
              "      <th>...</th>\n",
              "      <td>...</td>\n",
              "      <td>...</td>\n",
              "    </tr>\n",
              "    <tr>\n",
              "      <th>4577</th>\n",
              "      <td>6001409</td>\n",
              "      <td>SABONETE LIQ</td>\n",
              "    </tr>\n",
              "    <tr>\n",
              "      <th>4578</th>\n",
              "      <td>6001410</td>\n",
              "      <td>SABONETE LIQ</td>\n",
              "    </tr>\n",
              "    <tr>\n",
              "      <th>4579</th>\n",
              "      <td>6001411</td>\n",
              "      <td>TÔNICO NIVEA</td>\n",
              "    </tr>\n",
              "    <tr>\n",
              "      <th>4580</th>\n",
              "      <td>6001412</td>\n",
              "      <td>TÔNICO NIVEA</td>\n",
              "    </tr>\n",
              "    <tr>\n",
              "      <th>4581</th>\n",
              "      <td>6001415</td>\n",
              "      <td>CHOCOLATE KINDER</td>\n",
              "    </tr>\n",
              "  </tbody>\n",
              "</table>\n",
              "<p>4582 rows × 2 columns</p>\n",
              "</div>"
            ],
            "text/plain": [
              "      material              texto_breve\n",
              "0      4000010         ALCACHOFRA 300MG\n",
              "1      4000013  ANTI-SEPTICO ANESTESICO\n",
              "2      4000014           ASSEPTCARE SOL\n",
              "3      4000015           ASSEPTCARE SOL\n",
              "4      4000016        BENATUX FRAMBOESA\n",
              "...        ...                      ...\n",
              "4577   6001409             SABONETE LIQ\n",
              "4578   6001410             SABONETE LIQ\n",
              "4579   6001411             TÔNICO NIVEA\n",
              "4580   6001412             TÔNICO NIVEA\n",
              "4581   6001415         CHOCOLATE KINDER\n",
              "\n",
              "[4582 rows x 2 columns]"
            ]
          },
          "metadata": {
            "tags": []
          },
          "execution_count": 7
        }
      ]
    },
    {
      "cell_type": "code",
      "metadata": {
        "id": "MTDtAPKXXe8z",
        "colab_type": "code",
        "colab": {}
      },
      "source": [
        "print('Renomeando colunas ....')"
      ],
      "execution_count": 0,
      "outputs": []
    },
    {
      "cell_type": "markdown",
      "metadata": {
        "colab_type": "text",
        "id": "y-tUT3k-Mq2Q"
      },
      "source": [
        "### **Renomear Colunas 2° formato**\n",
        "\n",
        "---\n",
        "\n"
      ]
    },
    {
      "cell_type": "markdown",
      "metadata": {
        "id": "xHeyuoJ9OxAY",
        "colab_type": "text"
      },
      "source": [
        "**Função columns**\n",
        "\n",
        "dataframe.colums(columns=**lista**)\n",
        "\n",
        "lista = ['coluna_nova' , 'coluna_nova2']"
      ]
    },
    {
      "cell_type": "code",
      "metadata": {
        "id": "uVdzzhO3KlPA",
        "colab_type": "code",
        "colab": {}
      },
      "source": [
        "df_listar_pedidos.columns = ['cod_fornecedor','material','qtd_pedido','text_breve','qtd_estoque']"
      ],
      "execution_count": 0,
      "outputs": []
    },
    {
      "cell_type": "code",
      "metadata": {
        "id": "71kEZKiWK_tv",
        "colab_type": "code",
        "colab": {
          "base_uri": "https://localhost:8080/",
          "height": 0
        },
        "outputId": "c8e484af-63fe-4af1-da7d-830837551249"
      },
      "source": [
        "df_listar_pedidos"
      ],
      "execution_count": 9,
      "outputs": [
        {
          "output_type": "execute_result",
          "data": {
            "text/html": [
              "<div>\n",
              "<style scoped>\n",
              "    .dataframe tbody tr th:only-of-type {\n",
              "        vertical-align: middle;\n",
              "    }\n",
              "\n",
              "    .dataframe tbody tr th {\n",
              "        vertical-align: top;\n",
              "    }\n",
              "\n",
              "    .dataframe thead th {\n",
              "        text-align: right;\n",
              "    }\n",
              "</style>\n",
              "<table border=\"1\" class=\"dataframe\">\n",
              "  <thead>\n",
              "    <tr style=\"text-align: right;\">\n",
              "      <th></th>\n",
              "      <th>cod_fornecedor</th>\n",
              "      <th>material</th>\n",
              "      <th>qtd_pedido</th>\n",
              "      <th>text_breve</th>\n",
              "      <th>qtd_estoque</th>\n",
              "    </tr>\n",
              "  </thead>\n",
              "  <tbody>\n",
              "    <tr>\n",
              "      <th>0</th>\n",
              "      <td>3593</td>\n",
              "      <td>4003232.0</td>\n",
              "      <td>120</td>\n",
              "      <td>FLUCANIL 150MG</td>\n",
              "      <td>12</td>\n",
              "    </tr>\n",
              "    <tr>\n",
              "      <th>1</th>\n",
              "      <td>3593</td>\n",
              "      <td>4005091.0</td>\n",
              "      <td>60</td>\n",
              "      <td>BETRICORT CREME</td>\n",
              "      <td>6</td>\n",
              "    </tr>\n",
              "    <tr>\n",
              "      <th>2</th>\n",
              "      <td>3593</td>\n",
              "      <td>4003225.0</td>\n",
              "      <td>51</td>\n",
              "      <td>COLIRIO GEOLAB</td>\n",
              "      <td>5</td>\n",
              "    </tr>\n",
              "    <tr>\n",
              "      <th>3</th>\n",
              "      <td>3593</td>\n",
              "      <td>4003251.0</td>\n",
              "      <td>60</td>\n",
              "      <td>MIZONOL CREME</td>\n",
              "      <td>6</td>\n",
              "    </tr>\n",
              "    <tr>\n",
              "      <th>4</th>\n",
              "      <td>3593</td>\n",
              "      <td>4001716.0</td>\n",
              "      <td>20</td>\n",
              "      <td>GINO-COLON TUBO</td>\n",
              "      <td>2</td>\n",
              "    </tr>\n",
              "    <tr>\n",
              "      <th>...</th>\n",
              "      <td>...</td>\n",
              "      <td>...</td>\n",
              "      <td>...</td>\n",
              "      <td>...</td>\n",
              "      <td>...</td>\n",
              "    </tr>\n",
              "    <tr>\n",
              "      <th>1064</th>\n",
              "      <td>4239</td>\n",
              "      <td>4000333.0</td>\n",
              "      <td>1</td>\n",
              "      <td>CRESTOR 10MG</td>\n",
              "      <td>0</td>\n",
              "    </tr>\n",
              "    <tr>\n",
              "      <th>1065</th>\n",
              "      <td>4239</td>\n",
              "      <td>4003698.0</td>\n",
              "      <td>1</td>\n",
              "      <td>PANTOGAR C/90CP</td>\n",
              "      <td>0</td>\n",
              "    </tr>\n",
              "    <tr>\n",
              "      <th>1066</th>\n",
              "      <td>4239</td>\n",
              "      <td>4000359.0</td>\n",
              "      <td>1</td>\n",
              "      <td>XARELTO 15MG</td>\n",
              "      <td>0</td>\n",
              "    </tr>\n",
              "    <tr>\n",
              "      <th>1067</th>\n",
              "      <td>4239</td>\n",
              "      <td>4005114.0</td>\n",
              "      <td>1</td>\n",
              "      <td>ARADOIS H</td>\n",
              "      <td>0</td>\n",
              "    </tr>\n",
              "    <tr>\n",
              "      <th>1068</th>\n",
              "      <td>4239</td>\n",
              "      <td>4003731.0</td>\n",
              "      <td>1</td>\n",
              "      <td>DIOVAN 160MG</td>\n",
              "      <td>0</td>\n",
              "    </tr>\n",
              "  </tbody>\n",
              "</table>\n",
              "<p>1069 rows × 5 columns</p>\n",
              "</div>"
            ],
            "text/plain": [
              "      cod_fornecedor   material  qtd_pedido       text_breve  qtd_estoque\n",
              "0               3593  4003232.0         120   FLUCANIL 150MG           12\n",
              "1               3593  4005091.0          60  BETRICORT CREME            6\n",
              "2               3593  4003225.0          51   COLIRIO GEOLAB            5\n",
              "3               3593  4003251.0          60    MIZONOL CREME            6\n",
              "4               3593  4001716.0          20  GINO-COLON TUBO            2\n",
              "...              ...        ...         ...              ...          ...\n",
              "1064            4239  4000333.0           1     CRESTOR 10MG            0\n",
              "1065            4239  4003698.0           1  PANTOGAR C/90CP            0\n",
              "1066            4239  4000359.0           1     XARELTO 15MG            0\n",
              "1067            4239  4005114.0           1        ARADOIS H            0\n",
              "1068            4239  4003731.0           1     DIOVAN 160MG            0\n",
              "\n",
              "[1069 rows x 5 columns]"
            ]
          },
          "metadata": {
            "tags": []
          },
          "execution_count": 9
        }
      ]
    },
    {
      "cell_type": "markdown",
      "metadata": {
        "id": "dEa-rqK2P9WZ",
        "colab_type": "text"
      },
      "source": [
        "### **Deletando Colunas - 1° método**\n",
        "\n",
        "---\n",
        "\n"
      ]
    },
    {
      "cell_type": "markdown",
      "metadata": {
        "id": "plH2DV05RND3",
        "colab_type": "text"
      },
      "source": [
        "uso >> dataframe.drop(**lista**, axis = **string_especifica** ou **int**)"
      ]
    },
    {
      "cell_type": "markdown",
      "metadata": {
        "id": "gR4R7R3PRpw_",
        "colab_type": "text"
      },
      "source": [
        "1. Lista de nomes de colunas ou index de linhas a serem deletados\n",
        "\n",
        "2. 'columns' ou 'index'\n",
        "\n",
        "3. **1** (colunas) ou **0** (linhas)"
      ]
    },
    {
      "cell_type": "code",
      "metadata": {
        "id": "YSrFjgmnQBaP",
        "colab_type": "code",
        "colab": {}
      },
      "source": [
        "df_lista_de_materiais = df_lista_de_materiais.drop(['texto_breve'],axis='columns')"
      ],
      "execution_count": 0,
      "outputs": []
    },
    {
      "cell_type": "markdown",
      "metadata": {
        "id": "hP9omGqEUBBr",
        "colab_type": "text"
      },
      "source": [
        "### **Deletando Colunas - 2° método**\n",
        "\n",
        "---\n",
        "\n"
      ]
    },
    {
      "cell_type": "markdown",
      "metadata": {
        "id": "-MANiLAFUPzX",
        "colab_type": "text"
      },
      "source": [
        "uso >> dataframe[**lista**].copy()\n",
        "\n",
        "\n",
        "1.   lista = ['colunas a manter']\n",
        "\n",
        "resultado final >> dataframe[['colunas a manter']].copy()\n"
      ]
    },
    {
      "cell_type": "code",
      "metadata": {
        "id": "rakj2jDbUOXI",
        "colab_type": "code",
        "colab": {}
      },
      "source": [
        "df_listar_pedidos = df_listar_pedidos[['material','qtd_pedido','qtd_estoque']].copy()"
      ],
      "execution_count": 0,
      "outputs": []
    },
    {
      "cell_type": "code",
      "metadata": {
        "id": "ZOQRa-4uXj2z",
        "colab_type": "code",
        "colab": {}
      },
      "source": [
        "print('deletando colunas desnecessarias arquivos....')"
      ],
      "execution_count": 0,
      "outputs": []
    },
    {
      "cell_type": "markdown",
      "metadata": {
        "id": "pIekZGwTWsMR",
        "colab_type": "text"
      },
      "source": [
        "### **verificando tipos de colunas**\n",
        "\n",
        "---\n",
        "\n"
      ]
    },
    {
      "cell_type": "markdown",
      "metadata": {
        "id": "fHs8suAVW0uB",
        "colab_type": "text"
      },
      "source": [
        "dataframe.dtypes(para verificar tipos de todas as colunas)\n",
        "\n",
        "dataframe['coluna'].dtype"
      ]
    },
    {
      "cell_type": "code",
      "metadata": {
        "id": "-nqk49Z-WzJk",
        "colab_type": "code",
        "outputId": "f78c588f-f36f-4e5c-ad07-e8965de42b45",
        "colab": {
          "base_uri": "https://localhost:8080/",
          "height": 51
        }
      },
      "source": [
        " df_lista_de_materiais.dtypes"
      ],
      "execution_count": 12,
      "outputs": [
        {
          "output_type": "execute_result",
          "data": {
            "text/plain": [
              "material    int64\n",
              "dtype: object"
            ]
          },
          "metadata": {
            "tags": []
          },
          "execution_count": 12
        }
      ]
    },
    {
      "cell_type": "code",
      "metadata": {
        "id": "6N1JuVaiYPKM",
        "colab_type": "code",
        "outputId": "be595662-e877-4b5a-b82b-ce596f75af5a",
        "colab": {
          "base_uri": "https://localhost:8080/",
          "height": 85
        }
      },
      "source": [
        "df_listar_pedidos.dtypes"
      ],
      "execution_count": 13,
      "outputs": [
        {
          "output_type": "execute_result",
          "data": {
            "text/plain": [
              "material       float64\n",
              "qtd_pedido       int64\n",
              "qtd_estoque      int64\n",
              "dtype: object"
            ]
          },
          "metadata": {
            "tags": []
          },
          "execution_count": 13
        }
      ]
    },
    {
      "cell_type": "code",
      "metadata": {
        "id": "eS90Xf5KXpXj",
        "colab_type": "code",
        "colab": {}
      },
      "source": [
        "print('verificando tipos de dados....')"
      ],
      "execution_count": 0,
      "outputs": []
    },
    {
      "cell_type": "markdown",
      "metadata": {
        "id": "i0fsLeocYfDO",
        "colab_type": "text"
      },
      "source": [
        "### **Alterando tipo de colunas - Método 1**"
      ]
    },
    {
      "cell_type": "markdown",
      "metadata": {
        "id": "UIZ9er1XYjgg",
        "colab_type": "text"
      },
      "source": [
        "Alterando o tipo de apenas uma coluna: \n",
        "dataframe['coluna'].astype(palavra reservada)\n",
        "\n",
        "palavra reservada = str, int, float ou bool"
      ]
    },
    {
      "cell_type": "code",
      "metadata": {
        "id": "-IsyjR9rhXtD",
        "colab_type": "code",
        "colab": {}
      },
      "source": [
        "df_lista_de_materiais['material'] = df_lista_de_materiais['material'].astype(int)"
      ],
      "execution_count": 0,
      "outputs": []
    },
    {
      "cell_type": "code",
      "metadata": {
        "id": "fCokdwRvhxAi",
        "colab_type": "code",
        "colab": {
          "base_uri": "https://localhost:8080/",
          "height": 51
        },
        "outputId": "6a69966f-4334-4cd2-e44c-75f0c1ce7e06"
      },
      "source": [
        "df_lista_de_materiais.dtypes"
      ],
      "execution_count": 15,
      "outputs": [
        {
          "output_type": "execute_result",
          "data": {
            "text/plain": [
              "material    int64\n",
              "dtype: object"
            ]
          },
          "metadata": {
            "tags": []
          },
          "execution_count": 15
        }
      ]
    },
    {
      "cell_type": "code",
      "metadata": {
        "id": "KUYCg8Vk03no",
        "colab_type": "code",
        "colab": {}
      },
      "source": [
        "df_listar_pedidos['material'] = df_listar_pedidos['material'].astype(int) "
      ],
      "execution_count": 0,
      "outputs": []
    },
    {
      "cell_type": "code",
      "metadata": {
        "id": "PozGbIdCXuT9",
        "colab_type": "code",
        "colab": {}
      },
      "source": [
        "print('Alterando tipos de colunas....')"
      ],
      "execution_count": 0,
      "outputs": []
    },
    {
      "cell_type": "markdown",
      "metadata": {
        "id": "UDUf5EqRiWWE",
        "colab_type": "text"
      },
      "source": [
        "### **Alterando tipo de colunas - Método 2**\n",
        "\n",
        "---\n",
        "\n"
      ]
    },
    {
      "cell_type": "markdown",
      "metadata": {
        "id": "EhJFSFbsih18",
        "colab_type": "text"
      },
      "source": [
        "Transformando mais de uma coluna ao mesmo tempo \n",
        "\n",
        "dataframe[ ['x' , 'y'] ] = dataframe[ ['x' , 'y'] ].  astype(float)"
      ]
    },
    {
      "cell_type": "markdown",
      "metadata": {
        "colab_type": "text",
        "id": "AdZEFgott1Aa"
      },
      "source": [
        "### **Agrupando dados**\n",
        "\n",
        "---\n",
        "\n"
      ]
    },
    {
      "cell_type": "markdown",
      "metadata": {
        "colab_type": "text",
        "id": "zQ26HFuNt1Ap"
      },
      "source": [
        "uso >> dataframe.groupby(**lista**).agg(**dict**).reset_index(valor padrão de drop=**False**)\n",
        "\n",
        "1. **lista** = [colunas a serem agrupadas]\n",
        "2. **dict** = {'coluna_x':'function:sum,max,min,first e etc...'}\n"
      ]
    },
    {
      "cell_type": "code",
      "metadata": {
        "colab_type": "code",
        "id": "JkGM3WZct1Aq",
        "colab": {}
      },
      "source": [
        "df_listar_pedidos = df_listar_pedidos.groupby(['material']).agg({'qtd_pedido':'sum','qtd_estoque':'sum'}).reset_index()"
      ],
      "execution_count": 0,
      "outputs": []
    },
    {
      "cell_type": "code",
      "metadata": {
        "id": "DA98H26yudeW",
        "colab_type": "code",
        "colab": {
          "base_uri": "https://localhost:8080/",
          "height": 419
        },
        "outputId": "e1b9f52c-2b99-442b-fafb-0d1db5448c8f"
      },
      "source": [
        "df_listar_pedidos"
      ],
      "execution_count": 17,
      "outputs": [
        {
          "output_type": "execute_result",
          "data": {
            "text/html": [
              "<div>\n",
              "<style scoped>\n",
              "    .dataframe tbody tr th:only-of-type {\n",
              "        vertical-align: middle;\n",
              "    }\n",
              "\n",
              "    .dataframe tbody tr th {\n",
              "        vertical-align: top;\n",
              "    }\n",
              "\n",
              "    .dataframe thead th {\n",
              "        text-align: right;\n",
              "    }\n",
              "</style>\n",
              "<table border=\"1\" class=\"dataframe\">\n",
              "  <thead>\n",
              "    <tr style=\"text-align: right;\">\n",
              "      <th></th>\n",
              "      <th>material</th>\n",
              "      <th>qtd_pedido</th>\n",
              "      <th>qtd_estoque</th>\n",
              "    </tr>\n",
              "  </thead>\n",
              "  <tbody>\n",
              "    <tr>\n",
              "      <th>0</th>\n",
              "      <td>4000010.0</td>\n",
              "      <td>250</td>\n",
              "      <td>25</td>\n",
              "    </tr>\n",
              "    <tr>\n",
              "      <th>1</th>\n",
              "      <td>4000014.0</td>\n",
              "      <td>60</td>\n",
              "      <td>6</td>\n",
              "    </tr>\n",
              "    <tr>\n",
              "      <th>2</th>\n",
              "      <td>4000019.0</td>\n",
              "      <td>7</td>\n",
              "      <td>0</td>\n",
              "    </tr>\n",
              "    <tr>\n",
              "      <th>3</th>\n",
              "      <td>4000020.0</td>\n",
              "      <td>9</td>\n",
              "      <td>0</td>\n",
              "    </tr>\n",
              "    <tr>\n",
              "      <th>4</th>\n",
              "      <td>4000047.0</td>\n",
              "      <td>50</td>\n",
              "      <td>5</td>\n",
              "    </tr>\n",
              "    <tr>\n",
              "      <th>...</th>\n",
              "      <td>...</td>\n",
              "      <td>...</td>\n",
              "      <td>...</td>\n",
              "    </tr>\n",
              "    <tr>\n",
              "      <th>938</th>\n",
              "      <td>6001069.0</td>\n",
              "      <td>12</td>\n",
              "      <td>1</td>\n",
              "    </tr>\n",
              "    <tr>\n",
              "      <th>939</th>\n",
              "      <td>6001074.0</td>\n",
              "      <td>42</td>\n",
              "      <td>4</td>\n",
              "    </tr>\n",
              "    <tr>\n",
              "      <th>940</th>\n",
              "      <td>6001075.0</td>\n",
              "      <td>2</td>\n",
              "      <td>0</td>\n",
              "    </tr>\n",
              "    <tr>\n",
              "      <th>941</th>\n",
              "      <td>6001078.0</td>\n",
              "      <td>16</td>\n",
              "      <td>1</td>\n",
              "    </tr>\n",
              "    <tr>\n",
              "      <th>942</th>\n",
              "      <td>6001415.0</td>\n",
              "      <td>4</td>\n",
              "      <td>0</td>\n",
              "    </tr>\n",
              "  </tbody>\n",
              "</table>\n",
              "<p>943 rows × 3 columns</p>\n",
              "</div>"
            ],
            "text/plain": [
              "      material  qtd_pedido  qtd_estoque\n",
              "0    4000010.0         250           25\n",
              "1    4000014.0          60            6\n",
              "2    4000019.0           7            0\n",
              "3    4000020.0           9            0\n",
              "4    4000047.0          50            5\n",
              "..         ...         ...          ...\n",
              "938  6001069.0          12            1\n",
              "939  6001074.0          42            4\n",
              "940  6001075.0           2            0\n",
              "941  6001078.0          16            1\n",
              "942  6001415.0           4            0\n",
              "\n",
              "[943 rows x 3 columns]"
            ]
          },
          "metadata": {
            "tags": []
          },
          "execution_count": 17
        }
      ]
    },
    {
      "cell_type": "code",
      "metadata": {
        "id": "BLRn9Jq0Xz6N",
        "colab_type": "code",
        "colab": {}
      },
      "source": [
        "print('Agrupando dados....')"
      ],
      "execution_count": 0,
      "outputs": []
    },
    {
      "cell_type": "markdown",
      "metadata": {
        "id": "sOq-Exzi8IWM",
        "colab_type": "text"
      },
      "source": [
        "# **Arquivos XLSX**\n",
        "\n",
        "---\n",
        "\n"
      ]
    },
    {
      "cell_type": "markdown",
      "metadata": {
        "id": "lB6BAS_93DU6",
        "colab_type": "text"
      },
      "source": [
        "### **Leitura de dados**"
      ]
    },
    {
      "cell_type": "code",
      "metadata": {
        "id": "H43YXHk38PZi",
        "colab_type": "code",
        "colab": {}
      },
      "source": [
        "df_vendas = pd.read_excel('vendas_1.xlsx',sheet_name='vendas',skiprows=0)"
      ],
      "execution_count": 0,
      "outputs": []
    },
    {
      "cell_type": "code",
      "metadata": {
        "id": "l2BmG8I12qaD",
        "colab_type": "code",
        "colab": {}
      },
      "source": [
        "df_vendas2 = pd.read_excel('vendas_2.xlsx',sheet_name=0,skiprows=0)"
      ],
      "execution_count": 0,
      "outputs": []
    },
    {
      "cell_type": "code",
      "metadata": {
        "id": "UqKBd9orWzu6",
        "colab_type": "code",
        "colab": {
          "base_uri": "https://localhost:8080/",
          "height": 0
        },
        "outputId": "9c9d102b-b223-485f-881c-e5e232839f55"
      },
      "source": [
        "df_vendas"
      ],
      "execution_count": 20,
      "outputs": [
        {
          "output_type": "execute_result",
          "data": {
            "text/html": [
              "<div>\n",
              "<style scoped>\n",
              "    .dataframe tbody tr th:only-of-type {\n",
              "        vertical-align: middle;\n",
              "    }\n",
              "\n",
              "    .dataframe tbody tr th {\n",
              "        vertical-align: top;\n",
              "    }\n",
              "\n",
              "    .dataframe thead th {\n",
              "        text-align: right;\n",
              "    }\n",
              "</style>\n",
              "<table border=\"1\" class=\"dataframe\">\n",
              "  <thead>\n",
              "    <tr style=\"text-align: right;\">\n",
              "      <th></th>\n",
              "      <th>Data</th>\n",
              "      <th>Material</th>\n",
              "      <th>Qtd.faturd</th>\n",
              "    </tr>\n",
              "  </thead>\n",
              "  <tbody>\n",
              "    <tr>\n",
              "      <th>0</th>\n",
              "      <td>25-04-2020</td>\n",
              "      <td>6000110</td>\n",
              "      <td>1</td>\n",
              "    </tr>\n",
              "    <tr>\n",
              "      <th>1</th>\n",
              "      <td>25-04-2020</td>\n",
              "      <td>6000129</td>\n",
              "      <td>1</td>\n",
              "    </tr>\n",
              "    <tr>\n",
              "      <th>2</th>\n",
              "      <td>25-04-2020</td>\n",
              "      <td>6000163</td>\n",
              "      <td>1</td>\n",
              "    </tr>\n",
              "    <tr>\n",
              "      <th>3</th>\n",
              "      <td>25-04-2020</td>\n",
              "      <td>6000172</td>\n",
              "      <td>1</td>\n",
              "    </tr>\n",
              "    <tr>\n",
              "      <th>4</th>\n",
              "      <td>25-04-2020</td>\n",
              "      <td>6000892</td>\n",
              "      <td>1</td>\n",
              "    </tr>\n",
              "    <tr>\n",
              "      <th>...</th>\n",
              "      <td>...</td>\n",
              "      <td>...</td>\n",
              "      <td>...</td>\n",
              "    </tr>\n",
              "    <tr>\n",
              "      <th>8652</th>\n",
              "      <td>27-04-2020</td>\n",
              "      <td>4005739</td>\n",
              "      <td>1</td>\n",
              "    </tr>\n",
              "    <tr>\n",
              "      <th>8653</th>\n",
              "      <td>27-04-2020</td>\n",
              "      <td>4005739</td>\n",
              "      <td>1</td>\n",
              "    </tr>\n",
              "    <tr>\n",
              "      <th>8654</th>\n",
              "      <td>27-04-2020</td>\n",
              "      <td>4005903</td>\n",
              "      <td>1</td>\n",
              "    </tr>\n",
              "    <tr>\n",
              "      <th>8655</th>\n",
              "      <td>27-04-2020</td>\n",
              "      <td>4005911</td>\n",
              "      <td>1</td>\n",
              "    </tr>\n",
              "    <tr>\n",
              "      <th>8656</th>\n",
              "      <td>27-04-2020</td>\n",
              "      <td>4005927</td>\n",
              "      <td>1</td>\n",
              "    </tr>\n",
              "  </tbody>\n",
              "</table>\n",
              "<p>8657 rows × 3 columns</p>\n",
              "</div>"
            ],
            "text/plain": [
              "            Data  Material  Qtd.faturd\n",
              "0     25-04-2020   6000110           1\n",
              "1     25-04-2020   6000129           1\n",
              "2     25-04-2020   6000163           1\n",
              "3     25-04-2020   6000172           1\n",
              "4     25-04-2020   6000892           1\n",
              "...          ...       ...         ...\n",
              "8652  27-04-2020   4005739           1\n",
              "8653  27-04-2020   4005739           1\n",
              "8654  27-04-2020   4005903           1\n",
              "8655  27-04-2020   4005911           1\n",
              "8656  27-04-2020   4005927           1\n",
              "\n",
              "[8657 rows x 3 columns]"
            ]
          },
          "metadata": {
            "tags": []
          },
          "execution_count": 20
        }
      ]
    },
    {
      "cell_type": "markdown",
      "metadata": {
        "colab_type": "text",
        "id": "vqYhdTSHLtHH"
      },
      "source": [
        "### **Renomear Colunas** \n",
        "\n",
        "---\n",
        "\n"
      ]
    },
    {
      "cell_type": "markdown",
      "metadata": {
        "id": "x5d0NxQqPGCZ",
        "colab_type": "text"
      },
      "source": [
        "Os mesmos métodos mencionados acima funcionam igualmente para arquivos xlsx."
      ]
    },
    {
      "cell_type": "code",
      "metadata": {
        "id": "WIvocJuVLGA3",
        "colab_type": "code",
        "colab": {}
      },
      "source": [
        "df_vendas.columns = ['data','material','qtd_vendas_faturadas']"
      ],
      "execution_count": 0,
      "outputs": []
    },
    {
      "cell_type": "code",
      "metadata": {
        "id": "Ip47CWu4LSvk",
        "colab_type": "code",
        "colab": {}
      },
      "source": [
        "df_vendas2.columns = ['data','material','qtd_vendas_faturadas']"
      ],
      "execution_count": 0,
      "outputs": []
    },
    {
      "cell_type": "code",
      "metadata": {
        "id": "jpUluCD_LWPw",
        "colab_type": "code",
        "colab": {
          "base_uri": "https://localhost:8080/",
          "height": 0
        },
        "outputId": "2b51bca8-0cfa-4409-ecd0-adf2511e7de2"
      },
      "source": [
        "df_vendas"
      ],
      "execution_count": 23,
      "outputs": [
        {
          "output_type": "execute_result",
          "data": {
            "text/html": [
              "<div>\n",
              "<style scoped>\n",
              "    .dataframe tbody tr th:only-of-type {\n",
              "        vertical-align: middle;\n",
              "    }\n",
              "\n",
              "    .dataframe tbody tr th {\n",
              "        vertical-align: top;\n",
              "    }\n",
              "\n",
              "    .dataframe thead th {\n",
              "        text-align: right;\n",
              "    }\n",
              "</style>\n",
              "<table border=\"1\" class=\"dataframe\">\n",
              "  <thead>\n",
              "    <tr style=\"text-align: right;\">\n",
              "      <th></th>\n",
              "      <th>data</th>\n",
              "      <th>material</th>\n",
              "      <th>qtd_vendas_faturadas</th>\n",
              "    </tr>\n",
              "  </thead>\n",
              "  <tbody>\n",
              "    <tr>\n",
              "      <th>0</th>\n",
              "      <td>25-04-2020</td>\n",
              "      <td>6000110</td>\n",
              "      <td>1</td>\n",
              "    </tr>\n",
              "    <tr>\n",
              "      <th>1</th>\n",
              "      <td>25-04-2020</td>\n",
              "      <td>6000129</td>\n",
              "      <td>1</td>\n",
              "    </tr>\n",
              "    <tr>\n",
              "      <th>2</th>\n",
              "      <td>25-04-2020</td>\n",
              "      <td>6000163</td>\n",
              "      <td>1</td>\n",
              "    </tr>\n",
              "    <tr>\n",
              "      <th>3</th>\n",
              "      <td>25-04-2020</td>\n",
              "      <td>6000172</td>\n",
              "      <td>1</td>\n",
              "    </tr>\n",
              "    <tr>\n",
              "      <th>4</th>\n",
              "      <td>25-04-2020</td>\n",
              "      <td>6000892</td>\n",
              "      <td>1</td>\n",
              "    </tr>\n",
              "    <tr>\n",
              "      <th>...</th>\n",
              "      <td>...</td>\n",
              "      <td>...</td>\n",
              "      <td>...</td>\n",
              "    </tr>\n",
              "    <tr>\n",
              "      <th>8652</th>\n",
              "      <td>27-04-2020</td>\n",
              "      <td>4005739</td>\n",
              "      <td>1</td>\n",
              "    </tr>\n",
              "    <tr>\n",
              "      <th>8653</th>\n",
              "      <td>27-04-2020</td>\n",
              "      <td>4005739</td>\n",
              "      <td>1</td>\n",
              "    </tr>\n",
              "    <tr>\n",
              "      <th>8654</th>\n",
              "      <td>27-04-2020</td>\n",
              "      <td>4005903</td>\n",
              "      <td>1</td>\n",
              "    </tr>\n",
              "    <tr>\n",
              "      <th>8655</th>\n",
              "      <td>27-04-2020</td>\n",
              "      <td>4005911</td>\n",
              "      <td>1</td>\n",
              "    </tr>\n",
              "    <tr>\n",
              "      <th>8656</th>\n",
              "      <td>27-04-2020</td>\n",
              "      <td>4005927</td>\n",
              "      <td>1</td>\n",
              "    </tr>\n",
              "  </tbody>\n",
              "</table>\n",
              "<p>8657 rows × 3 columns</p>\n",
              "</div>"
            ],
            "text/plain": [
              "            data  material  qtd_vendas_faturadas\n",
              "0     25-04-2020   6000110                     1\n",
              "1     25-04-2020   6000129                     1\n",
              "2     25-04-2020   6000163                     1\n",
              "3     25-04-2020   6000172                     1\n",
              "4     25-04-2020   6000892                     1\n",
              "...          ...       ...                   ...\n",
              "8652  27-04-2020   4005739                     1\n",
              "8653  27-04-2020   4005739                     1\n",
              "8654  27-04-2020   4005903                     1\n",
              "8655  27-04-2020   4005911                     1\n",
              "8656  27-04-2020   4005927                     1\n",
              "\n",
              "[8657 rows x 3 columns]"
            ]
          },
          "metadata": {
            "tags": []
          },
          "execution_count": 23
        }
      ]
    },
    {
      "cell_type": "code",
      "metadata": {
        "id": "bgir1v0kLY3Q",
        "colab_type": "code",
        "colab": {
          "base_uri": "https://localhost:8080/",
          "height": 0
        },
        "outputId": "053e3ac7-124e-4e3e-b995-f03e539abf0a"
      },
      "source": [
        "df_vendas2"
      ],
      "execution_count": 24,
      "outputs": [
        {
          "output_type": "execute_result",
          "data": {
            "text/html": [
              "<div>\n",
              "<style scoped>\n",
              "    .dataframe tbody tr th:only-of-type {\n",
              "        vertical-align: middle;\n",
              "    }\n",
              "\n",
              "    .dataframe tbody tr th {\n",
              "        vertical-align: top;\n",
              "    }\n",
              "\n",
              "    .dataframe thead th {\n",
              "        text-align: right;\n",
              "    }\n",
              "</style>\n",
              "<table border=\"1\" class=\"dataframe\">\n",
              "  <thead>\n",
              "    <tr style=\"text-align: right;\">\n",
              "      <th></th>\n",
              "      <th>data</th>\n",
              "      <th>material</th>\n",
              "      <th>qtd_vendas_faturadas</th>\n",
              "    </tr>\n",
              "  </thead>\n",
              "  <tbody>\n",
              "    <tr>\n",
              "      <th>0</th>\n",
              "      <td>28-04-2020</td>\n",
              "      <td>6001085</td>\n",
              "      <td>1</td>\n",
              "    </tr>\n",
              "    <tr>\n",
              "      <th>1</th>\n",
              "      <td>28-04-2020</td>\n",
              "      <td>4000020</td>\n",
              "      <td>1</td>\n",
              "    </tr>\n",
              "    <tr>\n",
              "      <th>2</th>\n",
              "      <td>28-04-2020</td>\n",
              "      <td>4000020</td>\n",
              "      <td>1</td>\n",
              "    </tr>\n",
              "    <tr>\n",
              "      <th>3</th>\n",
              "      <td>28-04-2020</td>\n",
              "      <td>4000020</td>\n",
              "      <td>1</td>\n",
              "    </tr>\n",
              "    <tr>\n",
              "      <th>4</th>\n",
              "      <td>28-04-2020</td>\n",
              "      <td>4000045</td>\n",
              "      <td>1</td>\n",
              "    </tr>\n",
              "    <tr>\n",
              "      <th>...</th>\n",
              "      <td>...</td>\n",
              "      <td>...</td>\n",
              "      <td>...</td>\n",
              "    </tr>\n",
              "    <tr>\n",
              "      <th>8139</th>\n",
              "      <td>30-04-2020</td>\n",
              "      <td>6000768</td>\n",
              "      <td>1</td>\n",
              "    </tr>\n",
              "    <tr>\n",
              "      <th>8140</th>\n",
              "      <td>30-04-2020</td>\n",
              "      <td>6000839</td>\n",
              "      <td>1</td>\n",
              "    </tr>\n",
              "    <tr>\n",
              "      <th>8141</th>\n",
              "      <td>30-04-2020</td>\n",
              "      <td>6000843</td>\n",
              "      <td>1</td>\n",
              "    </tr>\n",
              "    <tr>\n",
              "      <th>8142</th>\n",
              "      <td>30-04-2020</td>\n",
              "      <td>6000969</td>\n",
              "      <td>1</td>\n",
              "    </tr>\n",
              "    <tr>\n",
              "      <th>8143</th>\n",
              "      <td>30-04-2020</td>\n",
              "      <td>6000400</td>\n",
              "      <td>1</td>\n",
              "    </tr>\n",
              "  </tbody>\n",
              "</table>\n",
              "<p>8144 rows × 3 columns</p>\n",
              "</div>"
            ],
            "text/plain": [
              "            data  material  qtd_vendas_faturadas\n",
              "0     28-04-2020   6001085                     1\n",
              "1     28-04-2020   4000020                     1\n",
              "2     28-04-2020   4000020                     1\n",
              "3     28-04-2020   4000020                     1\n",
              "4     28-04-2020   4000045                     1\n",
              "...          ...       ...                   ...\n",
              "8139  30-04-2020   6000768                     1\n",
              "8140  30-04-2020   6000839                     1\n",
              "8141  30-04-2020   6000843                     1\n",
              "8142  30-04-2020   6000969                     1\n",
              "8143  30-04-2020   6000400                     1\n",
              "\n",
              "[8144 rows x 3 columns]"
            ]
          },
          "metadata": {
            "tags": []
          },
          "execution_count": 24
        }
      ]
    },
    {
      "cell_type": "markdown",
      "metadata": {
        "id": "3VoXG5YIVVJQ",
        "colab_type": "text"
      },
      "source": [
        "### **Deletando Colunas**\n",
        "\n",
        "---\n",
        "\n"
      ]
    },
    {
      "cell_type": "code",
      "metadata": {
        "id": "G3mprY4gVa6Q",
        "colab_type": "code",
        "colab": {}
      },
      "source": [
        "df_vendas = df_vendas[['material','qtd_vendas_faturadas']].copy()"
      ],
      "execution_count": 0,
      "outputs": []
    },
    {
      "cell_type": "code",
      "metadata": {
        "id": "y6iuW_1aV0Pz",
        "colab_type": "code",
        "colab": {}
      },
      "source": [
        "df_vendas2 = df_vendas2.drop(['data'],axis='columns')"
      ],
      "execution_count": 0,
      "outputs": []
    },
    {
      "cell_type": "markdown",
      "metadata": {
        "id": "R4k0wov_X81p",
        "colab_type": "text"
      },
      "source": [
        "### **Verificando tipos de colunas**\n",
        "\n",
        "---\n",
        "\n"
      ]
    },
    {
      "cell_type": "code",
      "metadata": {
        "id": "_UXMmDbUYHGA",
        "colab_type": "code",
        "colab": {
          "base_uri": "https://localhost:8080/",
          "height": 0
        },
        "outputId": "f56d9a35-d2c1-44d3-8d2b-5b730dc6a326"
      },
      "source": [
        "df_vendas.dtypes"
      ],
      "execution_count": 27,
      "outputs": [
        {
          "output_type": "execute_result",
          "data": {
            "text/plain": [
              "material                int64\n",
              "qtd_vendas_faturadas    int64\n",
              "dtype: object"
            ]
          },
          "metadata": {
            "tags": []
          },
          "execution_count": 27
        }
      ]
    },
    {
      "cell_type": "code",
      "metadata": {
        "id": "NReoRijrYU1k",
        "colab_type": "code",
        "colab": {
          "base_uri": "https://localhost:8080/",
          "height": 0
        },
        "outputId": "7e6fa048-f581-433a-dadd-b04bba0e6fdb"
      },
      "source": [
        "df_vendas2.dtypes"
      ],
      "execution_count": 28,
      "outputs": [
        {
          "output_type": "execute_result",
          "data": {
            "text/plain": [
              "material                int64\n",
              "qtd_vendas_faturadas    int64\n",
              "dtype: object"
            ]
          },
          "metadata": {
            "tags": []
          },
          "execution_count": 28
        }
      ]
    },
    {
      "cell_type": "markdown",
      "metadata": {
        "id": "hL6C17-Wj1cI",
        "colab_type": "text"
      },
      "source": [
        "### **Concatenação de tabelas**\n",
        "\n",
        "---\n",
        "\n"
      ]
    },
    {
      "cell_type": "markdown",
      "metadata": {
        "id": "L0uGvAJ3j9il",
        "colab_type": "text"
      },
      "source": [
        "uso >> pd.concat(**lista**)\n",
        "\n",
        "lista = [**lista de dataframes**]"
      ]
    },
    {
      "cell_type": "code",
      "metadata": {
        "id": "OwQrycs_kRC3",
        "colab_type": "code",
        "colab": {}
      },
      "source": [
        "df_vendasTotais = pd.concat([df_vendas,df_vendas2])"
      ],
      "execution_count": 0,
      "outputs": []
    },
    {
      "cell_type": "code",
      "metadata": {
        "id": "OGyVVZSWkmOK",
        "colab_type": "code",
        "colab": {
          "base_uri": "https://localhost:8080/",
          "height": 0
        },
        "outputId": "1ad08d03-9dee-4d8f-f0f0-a0c25a9cfbf2"
      },
      "source": [
        "df_vendasTotais"
      ],
      "execution_count": 30,
      "outputs": [
        {
          "output_type": "execute_result",
          "data": {
            "text/html": [
              "<div>\n",
              "<style scoped>\n",
              "    .dataframe tbody tr th:only-of-type {\n",
              "        vertical-align: middle;\n",
              "    }\n",
              "\n",
              "    .dataframe tbody tr th {\n",
              "        vertical-align: top;\n",
              "    }\n",
              "\n",
              "    .dataframe thead th {\n",
              "        text-align: right;\n",
              "    }\n",
              "</style>\n",
              "<table border=\"1\" class=\"dataframe\">\n",
              "  <thead>\n",
              "    <tr style=\"text-align: right;\">\n",
              "      <th></th>\n",
              "      <th>material</th>\n",
              "      <th>qtd_vendas_faturadas</th>\n",
              "    </tr>\n",
              "  </thead>\n",
              "  <tbody>\n",
              "    <tr>\n",
              "      <th>0</th>\n",
              "      <td>6000110</td>\n",
              "      <td>1</td>\n",
              "    </tr>\n",
              "    <tr>\n",
              "      <th>1</th>\n",
              "      <td>6000129</td>\n",
              "      <td>1</td>\n",
              "    </tr>\n",
              "    <tr>\n",
              "      <th>2</th>\n",
              "      <td>6000163</td>\n",
              "      <td>1</td>\n",
              "    </tr>\n",
              "    <tr>\n",
              "      <th>3</th>\n",
              "      <td>6000172</td>\n",
              "      <td>1</td>\n",
              "    </tr>\n",
              "    <tr>\n",
              "      <th>4</th>\n",
              "      <td>6000892</td>\n",
              "      <td>1</td>\n",
              "    </tr>\n",
              "    <tr>\n",
              "      <th>...</th>\n",
              "      <td>...</td>\n",
              "      <td>...</td>\n",
              "    </tr>\n",
              "    <tr>\n",
              "      <th>8139</th>\n",
              "      <td>6000768</td>\n",
              "      <td>1</td>\n",
              "    </tr>\n",
              "    <tr>\n",
              "      <th>8140</th>\n",
              "      <td>6000839</td>\n",
              "      <td>1</td>\n",
              "    </tr>\n",
              "    <tr>\n",
              "      <th>8141</th>\n",
              "      <td>6000843</td>\n",
              "      <td>1</td>\n",
              "    </tr>\n",
              "    <tr>\n",
              "      <th>8142</th>\n",
              "      <td>6000969</td>\n",
              "      <td>1</td>\n",
              "    </tr>\n",
              "    <tr>\n",
              "      <th>8143</th>\n",
              "      <td>6000400</td>\n",
              "      <td>1</td>\n",
              "    </tr>\n",
              "  </tbody>\n",
              "</table>\n",
              "<p>16801 rows × 2 columns</p>\n",
              "</div>"
            ],
            "text/plain": [
              "      material  qtd_vendas_faturadas\n",
              "0      6000110                     1\n",
              "1      6000129                     1\n",
              "2      6000163                     1\n",
              "3      6000172                     1\n",
              "4      6000892                     1\n",
              "...        ...                   ...\n",
              "8139   6000768                     1\n",
              "8140   6000839                     1\n",
              "8141   6000843                     1\n",
              "8142   6000969                     1\n",
              "8143   6000400                     1\n",
              "\n",
              "[16801 rows x 2 columns]"
            ]
          },
          "metadata": {
            "tags": []
          },
          "execution_count": 30
        }
      ]
    },
    {
      "cell_type": "code",
      "metadata": {
        "id": "m8reMs1aktet",
        "colab_type": "code",
        "outputId": "2810746b-2169-4129-d791-442638f7d174",
        "colab": {
          "base_uri": "https://localhost:8080/",
          "height": 0
        }
      },
      "source": [
        "df_vendas.shape"
      ],
      "execution_count": 31,
      "outputs": [
        {
          "output_type": "execute_result",
          "data": {
            "text/plain": [
              "(8657, 2)"
            ]
          },
          "metadata": {
            "tags": []
          },
          "execution_count": 31
        }
      ]
    },
    {
      "cell_type": "markdown",
      "metadata": {
        "id": "mIg91Z7nlfTU",
        "colab_type": "text"
      },
      "source": [
        "#### **Resetando um index**"
      ]
    },
    {
      "cell_type": "markdown",
      "metadata": {
        "id": "zQi28DnElkZ0",
        "colab_type": "text"
      },
      "source": [
        "uso >> dataframe.reset_index(drop=**bool**)\n",
        "\n",
        "drop = True or False"
      ]
    },
    {
      "cell_type": "code",
      "metadata": {
        "id": "8bJKtvvkluXs",
        "colab_type": "code",
        "colab": {}
      },
      "source": [
        "df_vendasTotais = df_vendasTotais.reset_index(drop=True)"
      ],
      "execution_count": 0,
      "outputs": []
    },
    {
      "cell_type": "code",
      "metadata": {
        "id": "WDyRclTwmVkU",
        "colab_type": "code",
        "colab": {
          "base_uri": "https://localhost:8080/",
          "height": 0
        },
        "outputId": "2a496dde-d68e-4935-c1d3-50035ff9a8f3"
      },
      "source": [
        "df_vendasTotais"
      ],
      "execution_count": 33,
      "outputs": [
        {
          "output_type": "execute_result",
          "data": {
            "text/html": [
              "<div>\n",
              "<style scoped>\n",
              "    .dataframe tbody tr th:only-of-type {\n",
              "        vertical-align: middle;\n",
              "    }\n",
              "\n",
              "    .dataframe tbody tr th {\n",
              "        vertical-align: top;\n",
              "    }\n",
              "\n",
              "    .dataframe thead th {\n",
              "        text-align: right;\n",
              "    }\n",
              "</style>\n",
              "<table border=\"1\" class=\"dataframe\">\n",
              "  <thead>\n",
              "    <tr style=\"text-align: right;\">\n",
              "      <th></th>\n",
              "      <th>material</th>\n",
              "      <th>qtd_vendas_faturadas</th>\n",
              "    </tr>\n",
              "  </thead>\n",
              "  <tbody>\n",
              "    <tr>\n",
              "      <th>0</th>\n",
              "      <td>6000110</td>\n",
              "      <td>1</td>\n",
              "    </tr>\n",
              "    <tr>\n",
              "      <th>1</th>\n",
              "      <td>6000129</td>\n",
              "      <td>1</td>\n",
              "    </tr>\n",
              "    <tr>\n",
              "      <th>2</th>\n",
              "      <td>6000163</td>\n",
              "      <td>1</td>\n",
              "    </tr>\n",
              "    <tr>\n",
              "      <th>3</th>\n",
              "      <td>6000172</td>\n",
              "      <td>1</td>\n",
              "    </tr>\n",
              "    <tr>\n",
              "      <th>4</th>\n",
              "      <td>6000892</td>\n",
              "      <td>1</td>\n",
              "    </tr>\n",
              "    <tr>\n",
              "      <th>...</th>\n",
              "      <td>...</td>\n",
              "      <td>...</td>\n",
              "    </tr>\n",
              "    <tr>\n",
              "      <th>16796</th>\n",
              "      <td>6000768</td>\n",
              "      <td>1</td>\n",
              "    </tr>\n",
              "    <tr>\n",
              "      <th>16797</th>\n",
              "      <td>6000839</td>\n",
              "      <td>1</td>\n",
              "    </tr>\n",
              "    <tr>\n",
              "      <th>16798</th>\n",
              "      <td>6000843</td>\n",
              "      <td>1</td>\n",
              "    </tr>\n",
              "    <tr>\n",
              "      <th>16799</th>\n",
              "      <td>6000969</td>\n",
              "      <td>1</td>\n",
              "    </tr>\n",
              "    <tr>\n",
              "      <th>16800</th>\n",
              "      <td>6000400</td>\n",
              "      <td>1</td>\n",
              "    </tr>\n",
              "  </tbody>\n",
              "</table>\n",
              "<p>16801 rows × 2 columns</p>\n",
              "</div>"
            ],
            "text/plain": [
              "       material  qtd_vendas_faturadas\n",
              "0       6000110                     1\n",
              "1       6000129                     1\n",
              "2       6000163                     1\n",
              "3       6000172                     1\n",
              "4       6000892                     1\n",
              "...         ...                   ...\n",
              "16796   6000768                     1\n",
              "16797   6000839                     1\n",
              "16798   6000843                     1\n",
              "16799   6000969                     1\n",
              "16800   6000400                     1\n",
              "\n",
              "[16801 rows x 2 columns]"
            ]
          },
          "metadata": {
            "tags": []
          },
          "execution_count": 33
        }
      ]
    },
    {
      "cell_type": "markdown",
      "metadata": {
        "id": "dTqXyiNjq7Cy",
        "colab_type": "text"
      },
      "source": [
        "### **Agrupando dados**\n",
        "\n",
        "---\n",
        "\n"
      ]
    },
    {
      "cell_type": "markdown",
      "metadata": {
        "id": "DgmTKme3rAlU",
        "colab_type": "text"
      },
      "source": [
        "uso >> dataframe.groupby(**lista**).agg(**dict**).reset_index(valor padrão de drop=**False**)\n",
        "\n",
        "1. **lista** = [colunas a serem agrupadas]\n",
        "2. **dict** = {'coluna_x':'function:sum,max,min,first e etc...'}\n"
      ]
    },
    {
      "cell_type": "code",
      "metadata": {
        "id": "yOKylutVr0rO",
        "colab_type": "code",
        "colab": {}
      },
      "source": [
        "df_vendasTotais = df_vendasTotais.groupby(['material']).agg({'qtd_vendas_faturadas':'sum'}).reset_index()"
      ],
      "execution_count": 0,
      "outputs": []
    },
    {
      "cell_type": "markdown",
      "metadata": {
        "id": "gyD8efizzTNW",
        "colab_type": "text"
      },
      "source": [
        "# **Correlação de tabelas**\n",
        "\n",
        "---\n",
        "\n"
      ]
    },
    {
      "cell_type": "markdown",
      "metadata": {
        "id": "-S4q3Mgv1dg9",
        "colab_type": "text"
      },
      "source": [
        "uso >> pd.merge(**dataframe1**, **dataframe2** ,  on = **lista** , how = **string especifica** )"
      ]
    },
    {
      "cell_type": "markdown",
      "metadata": {
        "id": "I3DRt0Tx2Hsy",
        "colab_type": "text"
      },
      "source": [
        "1. Tabela da esquerda \n",
        "2. Tabela da direita \n",
        "3. Lista = ['colunas em comum']\n",
        "4. how = método da correlação: ' left ' (esquerda), ' right ' (direita), ' inner '(pontos em comum), ' outter ' (tudo)"
      ]
    },
    {
      "cell_type": "code",
      "metadata": {
        "id": "EQvtXPtkzXJN",
        "colab_type": "code",
        "colab": {
          "base_uri": "https://localhost:8080/",
          "height": 111
        },
        "outputId": "e4633417-fdaf-4684-e2c9-b0da69588b79"
      },
      "source": [
        "df_vendasTotais.head(2)"
      ],
      "execution_count": 35,
      "outputs": [
        {
          "output_type": "execute_result",
          "data": {
            "text/html": [
              "<div>\n",
              "<style scoped>\n",
              "    .dataframe tbody tr th:only-of-type {\n",
              "        vertical-align: middle;\n",
              "    }\n",
              "\n",
              "    .dataframe tbody tr th {\n",
              "        vertical-align: top;\n",
              "    }\n",
              "\n",
              "    .dataframe thead th {\n",
              "        text-align: right;\n",
              "    }\n",
              "</style>\n",
              "<table border=\"1\" class=\"dataframe\">\n",
              "  <thead>\n",
              "    <tr style=\"text-align: right;\">\n",
              "      <th></th>\n",
              "      <th>material</th>\n",
              "      <th>qtd_vendas_faturadas</th>\n",
              "    </tr>\n",
              "  </thead>\n",
              "  <tbody>\n",
              "    <tr>\n",
              "      <th>0</th>\n",
              "      <td>4000013</td>\n",
              "      <td>6</td>\n",
              "    </tr>\n",
              "    <tr>\n",
              "      <th>1</th>\n",
              "      <td>4000014</td>\n",
              "      <td>1</td>\n",
              "    </tr>\n",
              "  </tbody>\n",
              "</table>\n",
              "</div>"
            ],
            "text/plain": [
              "   material  qtd_vendas_faturadas\n",
              "0   4000013                     6\n",
              "1   4000014                     1"
            ]
          },
          "metadata": {
            "tags": []
          },
          "execution_count": 35
        }
      ]
    },
    {
      "cell_type": "code",
      "metadata": {
        "id": "gJNrhwjRzhSX",
        "colab_type": "code",
        "colab": {
          "base_uri": "https://localhost:8080/",
          "height": 111
        },
        "outputId": "728208d5-f191-42a9-89d6-591134e6405f"
      },
      "source": [
        "df_lista_de_materiais.head(2)"
      ],
      "execution_count": 36,
      "outputs": [
        {
          "output_type": "execute_result",
          "data": {
            "text/html": [
              "<div>\n",
              "<style scoped>\n",
              "    .dataframe tbody tr th:only-of-type {\n",
              "        vertical-align: middle;\n",
              "    }\n",
              "\n",
              "    .dataframe tbody tr th {\n",
              "        vertical-align: top;\n",
              "    }\n",
              "\n",
              "    .dataframe thead th {\n",
              "        text-align: right;\n",
              "    }\n",
              "</style>\n",
              "<table border=\"1\" class=\"dataframe\">\n",
              "  <thead>\n",
              "    <tr style=\"text-align: right;\">\n",
              "      <th></th>\n",
              "      <th>material</th>\n",
              "    </tr>\n",
              "  </thead>\n",
              "  <tbody>\n",
              "    <tr>\n",
              "      <th>0</th>\n",
              "      <td>4000010</td>\n",
              "    </tr>\n",
              "    <tr>\n",
              "      <th>1</th>\n",
              "      <td>4000013</td>\n",
              "    </tr>\n",
              "  </tbody>\n",
              "</table>\n",
              "</div>"
            ],
            "text/plain": [
              "   material\n",
              "0   4000010\n",
              "1   4000013"
            ]
          },
          "metadata": {
            "tags": []
          },
          "execution_count": 36
        }
      ]
    },
    {
      "cell_type": "code",
      "metadata": {
        "id": "OqBqHqvM0Ezo",
        "colab_type": "code",
        "colab": {
          "base_uri": "https://localhost:8080/",
          "height": 111
        },
        "outputId": "348d6165-0a60-4050-8299-a09cf84e048e"
      },
      "source": [
        "df_listar_pedidos.head(2)"
      ],
      "execution_count": 42,
      "outputs": [
        {
          "output_type": "execute_result",
          "data": {
            "text/html": [
              "<div>\n",
              "<style scoped>\n",
              "    .dataframe tbody tr th:only-of-type {\n",
              "        vertical-align: middle;\n",
              "    }\n",
              "\n",
              "    .dataframe tbody tr th {\n",
              "        vertical-align: top;\n",
              "    }\n",
              "\n",
              "    .dataframe thead th {\n",
              "        text-align: right;\n",
              "    }\n",
              "</style>\n",
              "<table border=\"1\" class=\"dataframe\">\n",
              "  <thead>\n",
              "    <tr style=\"text-align: right;\">\n",
              "      <th></th>\n",
              "      <th>material</th>\n",
              "      <th>qtd_pedido</th>\n",
              "      <th>qtd_estoque</th>\n",
              "    </tr>\n",
              "  </thead>\n",
              "  <tbody>\n",
              "    <tr>\n",
              "      <th>0</th>\n",
              "      <td>4000010</td>\n",
              "      <td>250</td>\n",
              "      <td>25</td>\n",
              "    </tr>\n",
              "    <tr>\n",
              "      <th>1</th>\n",
              "      <td>4000014</td>\n",
              "      <td>60</td>\n",
              "      <td>6</td>\n",
              "    </tr>\n",
              "  </tbody>\n",
              "</table>\n",
              "</div>"
            ],
            "text/plain": [
              "   material  qtd_pedido  qtd_estoque\n",
              "0   4000010         250           25\n",
              "1   4000014          60            6"
            ]
          },
          "metadata": {
            "tags": []
          },
          "execution_count": 42
        }
      ]
    },
    {
      "cell_type": "code",
      "metadata": {
        "id": "Auz-mWIt0Kq1",
        "colab_type": "code",
        "colab": {
          "base_uri": "https://localhost:8080/",
          "height": 85
        },
        "outputId": "b5a21cf4-648b-4d97-b4df-993913cbba5f"
      },
      "source": [
        "df_listar_pedidos.dtypes"
      ],
      "execution_count": 41,
      "outputs": [
        {
          "output_type": "execute_result",
          "data": {
            "text/plain": [
              "material       int64\n",
              "qtd_pedido     int64\n",
              "qtd_estoque    int64\n",
              "dtype: object"
            ]
          },
          "metadata": {
            "tags": []
          },
          "execution_count": 41
        }
      ]
    },
    {
      "cell_type": "code",
      "metadata": {
        "id": "Niemygy84ujP",
        "colab_type": "code",
        "colab": {}
      },
      "source": [
        "df_relatorio = pd.merge(df_lista_de_materiais,df_listar_pedidos ,on=['material'] ,how='left' )"
      ],
      "execution_count": 0,
      "outputs": []
    },
    {
      "cell_type": "code",
      "metadata": {
        "id": "9Zylf5gg5dJI",
        "colab_type": "code",
        "colab": {}
      },
      "source": [
        "df_relatorio"
      ],
      "execution_count": 0,
      "outputs": []
    },
    {
      "cell_type": "code",
      "metadata": {
        "id": "yRIk2_2e6Ltm",
        "colab_type": "code",
        "colab": {}
      },
      "source": [
        "df_relatorio = pd.merge(df_relatorio,df_vendasTotais ,on=['material'] ,how='left' )"
      ],
      "execution_count": 0,
      "outputs": []
    },
    {
      "cell_type": "code",
      "metadata": {
        "id": "O9N-fnVD6Xox",
        "colab_type": "code",
        "colab": {}
      },
      "source": [
        "df_relatorio"
      ],
      "execution_count": 0,
      "outputs": []
    },
    {
      "cell_type": "markdown",
      "metadata": {
        "id": "ACrFfbIi6w9W",
        "colab_type": "text"
      },
      "source": [
        "## **Tratamento pós correlação**\n",
        "\n",
        "---\n",
        "\n"
      ]
    },
    {
      "cell_type": "markdown",
      "metadata": {
        "id": "fWgLSl7z62-u",
        "colab_type": "text"
      },
      "source": [
        "uso para todas as tabelas >> dataframe.fillna(**variável**)\n",
        "\n",
        "tabela especifica >> dataframe['coluna'].fillna(**variável**)\n",
        "\n",
        "1. variável = int, float, str, bool"
      ]
    },
    {
      "cell_type": "code",
      "metadata": {
        "id": "DClzkZ1U7bdu",
        "colab_type": "code",
        "colab": {}
      },
      "source": [
        "df_relatorio = df_relatorio.fillna(0)"
      ],
      "execution_count": 0,
      "outputs": []
    },
    {
      "cell_type": "code",
      "metadata": {
        "id": "GNND_ckv791Y",
        "colab_type": "code",
        "colab": {}
      },
      "source": [
        "df_relatorio[['qtd_pedido','qtd_estoque','qtd_vendas_faturadas']] = df_relatorio[['qtd_pedido','qtd_estoque','qtd_vendas_faturadas']].astype(int)"
      ],
      "execution_count": 0,
      "outputs": []
    },
    {
      "cell_type": "code",
      "metadata": {
        "id": "7JP0jPtt8jjH",
        "colab_type": "code",
        "colab": {}
      },
      "source": [
        "df_relatorio"
      ],
      "execution_count": 0,
      "outputs": []
    },
    {
      "cell_type": "code",
      "metadata": {
        "id": "xbrVDBcIX86w",
        "colab_type": "code",
        "colab": {}
      },
      "source": [
        "print('Correlacionando dados e tratando correlações....')"
      ],
      "execution_count": 0,
      "outputs": []
    },
    {
      "cell_type": "markdown",
      "metadata": {
        "id": "LVAAJh2U9EMv",
        "colab_type": "text"
      },
      "source": [
        "# **Regra de Negocio**\n",
        "\n",
        "---\n",
        "\n"
      ]
    },
    {
      "cell_type": "markdown",
      "metadata": {
        "id": "uLG0TY1f9JeW",
        "colab_type": "text"
      },
      "source": [
        "1° etapa => soma de colunas "
      ]
    },
    {
      "cell_type": "markdown",
      "metadata": {
        "id": "PDywauk_9j2e",
        "colab_type": "text"
      },
      "source": [
        "### **Operações entre colunas sem condicional**"
      ]
    },
    {
      "cell_type": "markdown",
      "metadata": {
        "id": "A_Jrxux_9vDe",
        "colab_type": "text"
      },
      "source": [
        "uso > dataframe[' coluna_x '] **operador** dataframe[' coluna_y ']\n",
        "\n",
        "1. operadores: +,-,(*),/,%,(potenciação => dois sinais de multiplicação)"
      ]
    },
    {
      "cell_type": "code",
      "metadata": {
        "id": "jkIX2Jd69qqZ",
        "colab_type": "code",
        "colab": {}
      },
      "source": [
        "df_relatorio['qtd_loja'] = df_relatorio['qtd_pedido']+df_relatorio['qtd_estoque']"
      ],
      "execution_count": 0,
      "outputs": []
    },
    {
      "cell_type": "code",
      "metadata": {
        "id": "kI3zaa1-_KTa",
        "colab_type": "code",
        "colab": {}
      },
      "source": [
        "df_relatorio = df_relatorio[['material','qtd_loja','qtd_vendas_faturadas']].copy()"
      ],
      "execution_count": 0,
      "outputs": []
    },
    {
      "cell_type": "code",
      "metadata": {
        "id": "jI8KnCrR_-B7",
        "colab_type": "code",
        "colab": {}
      },
      "source": [
        "df_relatorio"
      ],
      "execution_count": 0,
      "outputs": []
    },
    {
      "cell_type": "markdown",
      "metadata": {
        "id": "IfpSmLj-AevQ",
        "colab_type": "text"
      },
      "source": [
        "### **Operação entre colunas com condicional**"
      ]
    },
    {
      "cell_type": "markdown",
      "metadata": {
        "id": "uSgnvtV7F8pw",
        "colab_type": "text"
      },
      "source": [
        "def function(params):\n",
        "      \n",
        "      \n",
        "  dataframe.apply( lambda row: function(row['**column**']), axis= ' **columns** ' ou **1**)\n"
      ]
    },
    {
      "cell_type": "code",
      "metadata": {
        "id": "mt16GOrLF1rq",
        "colab_type": "code",
        "colab": {}
      },
      "source": [
        "def calculo_porcentagem(loja, vendas):\n",
        "  if(vendas != 0):\n",
        "    return round(loja/vendas, 2)\n",
        "  elif(loja != 0):\n",
        "    return 1.2\n",
        "  else:\n",
        "    return 0\n"
      ],
      "execution_count": 0,
      "outputs": []
    },
    {
      "cell_type": "code",
      "metadata": {
        "id": "WlLSdYALM5s9",
        "colab_type": "code",
        "colab": {}
      },
      "source": [
        "df_relatorio['porcentagem'] = df_relatorio.apply(lambda row: calculo_porcentagem(row['qtd_loja'],row['qtd_vendas_faturadas']), axis='columns')"
      ],
      "execution_count": 0,
      "outputs": []
    },
    {
      "cell_type": "code",
      "metadata": {
        "id": "pyhvTextNjjC",
        "colab_type": "code",
        "colab": {}
      },
      "source": [
        "df_relatorio"
      ],
      "execution_count": 0,
      "outputs": []
    },
    {
      "cell_type": "code",
      "metadata": {
        "id": "nKlo5n6xOHX5",
        "colab_type": "code",
        "colab": {}
      },
      "source": [
        "def definir_status(porcent):\n",
        "  if(porcent >= 1.2):\n",
        "    return 'em análise'\n",
        "  else:\n",
        "    return 'ok'"
      ],
      "execution_count": 0,
      "outputs": []
    },
    {
      "cell_type": "code",
      "metadata": {
        "id": "lVG0fMKKO9ez",
        "colab_type": "code",
        "colab": {}
      },
      "source": [
        "df_relatorio['status'] = df_relatorio.apply(lambda row: definir_status(row['porcentagem']), axis='columns')"
      ],
      "execution_count": 0,
      "outputs": []
    },
    {
      "cell_type": "code",
      "metadata": {
        "id": "pHX1dwcMPMDL",
        "colab_type": "code",
        "colab": {}
      },
      "source": [
        "df_relatorio"
      ],
      "execution_count": 0,
      "outputs": []
    },
    {
      "cell_type": "code",
      "metadata": {
        "id": "vBO1umohYDlq",
        "colab_type": "code",
        "colab": {}
      },
      "source": [
        "print('Criando a regra de negócio ....')"
      ],
      "execution_count": 0,
      "outputs": []
    },
    {
      "cell_type": "markdown",
      "metadata": {
        "id": "-cVyw7O3Pq-c",
        "colab_type": "text"
      },
      "source": [
        "# **Ordenando colunas**\n",
        "\n",
        "---\n",
        "\n",
        "\n"
      ]
    },
    {
      "cell_type": "markdown",
      "metadata": {
        "id": "sKFgIVbVP1aa",
        "colab_type": "text"
      },
      "source": [
        "uso >> dataframe.sort_values(**lista**, ascending = **lista de bool**)\n",
        "\n",
        "1. lista = [ colunas a serem ordenadas ]\n",
        "2. lista de bool = [ booleanos ]\n",
        "\n",
        "True => menor( < ) para o maior ( > )\n",
        "\n",
        "\n",
        "False => maior( > ) para o menor ( < )"
      ]
    },
    {
      "cell_type": "code",
      "metadata": {
        "id": "ZY5uRvK3QO7i",
        "colab_type": "code",
        "colab": {}
      },
      "source": [
        "df_relatorio = df_relatorio.sort_values(['qtd_loja'],ascending=[False])"
      ],
      "execution_count": 0,
      "outputs": []
    },
    {
      "cell_type": "code",
      "metadata": {
        "id": "7VNDHzokYHGi",
        "colab_type": "code",
        "colab": {}
      },
      "source": [
        "print('Ordenando colunas ....')"
      ],
      "execution_count": 0,
      "outputs": []
    },
    {
      "cell_type": "markdown",
      "metadata": {
        "id": "zZPMhGWvRBib",
        "colab_type": "text"
      },
      "source": [
        "# **Filtros**\n",
        "\n",
        "---\n",
        "\n"
      ]
    },
    {
      "cell_type": "markdown",
      "metadata": {
        "id": "dWywfELrRVMh",
        "colab_type": "text"
      },
      "source": [
        "uso >> dataframe[(dataframe['coluna_x'] > 0)]"
      ]
    },
    {
      "cell_type": "code",
      "metadata": {
        "id": "kjGe95RBRFcL",
        "colab_type": "code",
        "colab": {}
      },
      "source": [
        "df_relatorio_reduzido = df_relatorio[(df_relatorio['status'] == 'ok') & (df_relatorio['qtd_loja'] > 0)]"
      ],
      "execution_count": 0,
      "outputs": []
    },
    {
      "cell_type": "code",
      "metadata": {
        "id": "IZzMWs4bYKWj",
        "colab_type": "code",
        "colab": {}
      },
      "source": [
        "print('Criando filtros otimizados ....')"
      ],
      "execution_count": 0,
      "outputs": []
    },
    {
      "cell_type": "markdown",
      "metadata": {
        "id": "wa4x2iKmS_MZ",
        "colab_type": "text"
      },
      "source": [
        "# **Exportando Dados**\n",
        "\n",
        "---\n",
        "\n"
      ]
    },
    {
      "cell_type": "markdown",
      "metadata": {
        "id": "h5jfkbXsTFYL",
        "colab_type": "text"
      },
      "source": [
        "## Exportando formato .CSV ou .TXT"
      ]
    },
    {
      "cell_type": "markdown",
      "metadata": {
        "id": "Z9bcD1X4Thwc",
        "colab_type": "text"
      },
      "source": [
        "uso > dataframe.to_csv( **string**, sep = **string**, skiprow = **int**)\n",
        "\n",
        "1.   Nome do arquivo\n",
        "2.   sep = string que separa os dados no arquivo\n"
      ]
    },
    {
      "cell_type": "code",
      "metadata": {
        "id": "C4tFDdFQTu7z",
        "colab_type": "code",
        "colab": {}
      },
      "source": [
        "df_relatorio.to_csv('relatorio_final.csv', sep=';')"
      ],
      "execution_count": 0,
      "outputs": []
    },
    {
      "cell_type": "markdown",
      "metadata": {
        "id": "brnH4gFTUhHk",
        "colab_type": "text"
      },
      "source": [
        "## Exportando formato .XLSX"
      ]
    },
    {
      "cell_type": "markdown",
      "metadata": {
        "id": "KGLN4AEgUney",
        "colab_type": "text"
      },
      "source": [
        "uso >> writter = pd.ExcelWriter(**string**)\n",
        "\n",
        "dataframe.to_excel( writter , sheet_name = **string**,  index = **bool** )\n",
        "\n",
        "writter.save()"
      ]
    },
    {
      "cell_type": "code",
      "metadata": {
        "id": "HeUYOIXyUlp0",
        "colab_type": "code",
        "colab": {}
      },
      "source": [
        "writter = pd.ExcelWriter('Relatorio Final.xlsx')\n",
        "\n",
        "df_relatorio.to_excel(writter, sheet_name='relatorio', index=False)\n",
        "df_relatorio_reduzido.to_excel(writter,sheet_name='reduzido',index=False)\n",
        "\n",
        "writter.save()"
      ],
      "execution_count": 0,
      "outputs": []
    },
    {
      "cell_type": "code",
      "metadata": {
        "id": "kAxmwq4KV27N",
        "colab_type": "code",
        "colab": {}
      },
      "source": [
        ""
      ],
      "execution_count": 0,
      "outputs": []
    },
    {
      "cell_type": "code",
      "metadata": {
        "id": "_dOmOej1YO-l",
        "colab_type": "code",
        "colab": {}
      },
      "source": [
        "print('Exportando Relatório Final ....')"
      ],
      "execution_count": 0,
      "outputs": []
    },
    {
      "cell_type": "code",
      "metadata": {
        "id": "cZ3SoRtVYUJi",
        "colab_type": "code",
        "colab": {}
      },
      "source": [
        "print('Relatório gerado com sucesso ....')"
      ],
      "execution_count": 0,
      "outputs": []
    },
    {
      "cell_type": "code",
      "metadata": {
        "id": "JVrKN5daYXmD",
        "colab_type": "code",
        "colab": {}
      },
      "source": [
        "input()"
      ],
      "execution_count": 0,
      "outputs": []
    }
  ]
}