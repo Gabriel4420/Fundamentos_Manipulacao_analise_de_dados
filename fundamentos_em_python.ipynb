{
  "nbformat": 4,
  "nbformat_minor": 0,
  "metadata": {
    "colab": {
      "name": "fundamentos_em_python.ipynb",
      "provenance": [],
      "collapsed_sections": [
        "dRvwdb4IFYjo",
        "AGcIRglxDyEq",
        "9G2TfGwCD890",
        "soJiCUw9Il50",
        "jV8iT1m_Zt5o",
        "FMw8ypYgbG8b",
        "U1eVX6difE80",
        "xyErrvVnhgZO",
        "HN0GCGbQnK2I"
      ],
      "authorship_tag": "ABX9TyMhAP7iTvf4HPC2y5QEtnfF",
      "include_colab_link": true
    },
    "kernelspec": {
      "name": "python3",
      "display_name": "Python 3"
    }
  },
  "cells": [
    {
      "cell_type": "markdown",
      "metadata": {
        "id": "view-in-github",
        "colab_type": "text"
      },
      "source": [
        "<a href=\"https://colab.research.google.com/github/Gabriel4420/Fundamentos_Manipulacao_analise_de_dados/blob/master/fundamentos_em_python.ipynb\" target=\"_parent\"><img src=\"https://colab.research.google.com/assets/colab-badge.svg\" alt=\"Open In Colab\"/></a>"
      ]
    },
    {
      "cell_type": "markdown",
      "metadata": {
        "id": "IXZIedBs7W-a",
        "colab_type": "text"
      },
      "source": [
        "# **<<** **Fundamentos em Python** **>>**  "
      ]
    },
    {
      "cell_type": "markdown",
      "metadata": {
        "id": "dRvwdb4IFYjo",
        "colab_type": "text"
      },
      "source": [
        "# **Inteiros**"
      ]
    },
    {
      "cell_type": "code",
      "metadata": {
        "id": "OuzVj5y07Usb",
        "colab_type": "code",
        "colab": {}
      },
      "source": [
        "age = 15"
      ],
      "execution_count": 0,
      "outputs": []
    },
    {
      "cell_type": "code",
      "metadata": {
        "id": "THi4Apma77Jx",
        "colab_type": "code",
        "colab": {}
      },
      "source": [
        "number = 2"
      ],
      "execution_count": 0,
      "outputs": []
    },
    {
      "cell_type": "code",
      "metadata": {
        "id": "hTyMthndFrjb",
        "colab_type": "code",
        "colab": {}
      },
      "source": [
        "x = '2'\n",
        "y = '4'\n",
        "z = x + y\n"
      ],
      "execution_count": 0,
      "outputs": []
    },
    {
      "cell_type": "code",
      "metadata": {
        "id": "drx3MLjm8pyn",
        "colab_type": "code",
        "colab": {}
      },
      "source": [
        "age += number"
      ],
      "execution_count": 0,
      "outputs": []
    },
    {
      "cell_type": "code",
      "metadata": {
        "id": "IkPGhmZi-SkF",
        "colab_type": "code",
        "outputId": "6864cb06-c422-483c-81e8-58819807fe63",
        "colab": {
          "base_uri": "https://localhost:8080/",
          "height": 34
        }
      },
      "source": [
        "age"
      ],
      "execution_count": 0,
      "outputs": [
        {
          "output_type": "execute_result",
          "data": {
            "text/plain": [
              "17"
            ]
          },
          "metadata": {
            "tags": []
          },
          "execution_count": 6
        }
      ]
    },
    {
      "cell_type": "code",
      "metadata": {
        "id": "uM4Plk5C-Yfx",
        "colab_type": "code",
        "colab": {}
      },
      "source": [
        "ageBkp = age - number "
      ],
      "execution_count": 0,
      "outputs": []
    },
    {
      "cell_type": "code",
      "metadata": {
        "id": "sDpe9dDH-gai",
        "colab_type": "code",
        "outputId": "0378dfb8-eb5d-4ac7-82e9-c2f58d008a99",
        "colab": {
          "base_uri": "https://localhost:8080/",
          "height": 34
        }
      },
      "source": [
        "ageBkp"
      ],
      "execution_count": 0,
      "outputs": [
        {
          "output_type": "execute_result",
          "data": {
            "text/plain": [
              "15"
            ]
          },
          "metadata": {
            "tags": []
          },
          "execution_count": 8
        }
      ]
    },
    {
      "cell_type": "code",
      "metadata": {
        "id": "8rpLS--b-jip",
        "colab_type": "code",
        "outputId": "5e15f769-d765-4d43-9a23-79fb53dcedf0",
        "colab": {
          "base_uri": "https://localhost:8080/",
          "height": 34
        }
      },
      "source": [
        "number * 2"
      ],
      "execution_count": 0,
      "outputs": [
        {
          "output_type": "execute_result",
          "data": {
            "text/plain": [
              "4"
            ]
          },
          "metadata": {
            "tags": []
          },
          "execution_count": 10
        }
      ]
    },
    {
      "cell_type": "code",
      "metadata": {
        "id": "eMtwr_By-p2V",
        "colab_type": "code",
        "outputId": "8c75d066-8faa-4087-b7de-6746a33815e9",
        "colab": {
          "base_uri": "https://localhost:8080/",
          "height": 34
        }
      },
      "source": [
        "ageBkp / 3"
      ],
      "execution_count": 0,
      "outputs": [
        {
          "output_type": "execute_result",
          "data": {
            "text/plain": [
              "5.0"
            ]
          },
          "metadata": {
            "tags": []
          },
          "execution_count": 11
        }
      ]
    },
    {
      "cell_type": "code",
      "metadata": {
        "id": "HTITd-oB-ykr",
        "colab_type": "code",
        "colab": {}
      },
      "source": [
        "height = 1.82 "
      ],
      "execution_count": 0,
      "outputs": []
    },
    {
      "cell_type": "code",
      "metadata": {
        "id": "D74SfWXF_QSU",
        "colab_type": "code",
        "colab": {}
      },
      "source": [
        "floating_point = ageBkp/3"
      ],
      "execution_count": 0,
      "outputs": []
    },
    {
      "cell_type": "code",
      "metadata": {
        "id": "5icsVK95AGoY",
        "colab_type": "code",
        "outputId": "bea16e37-8102-4eb7-a78d-ef69c4b80d9f",
        "colab": {
          "base_uri": "https://localhost:8080/",
          "height": 34
        }
      },
      "source": [
        "number ** 3"
      ],
      "execution_count": 0,
      "outputs": [
        {
          "output_type": "execute_result",
          "data": {
            "text/plain": [
              "8"
            ]
          },
          "metadata": {
            "tags": []
          },
          "execution_count": 14
        }
      ]
    },
    {
      "cell_type": "code",
      "metadata": {
        "id": "BukVR6X-APPm",
        "colab_type": "code",
        "outputId": "13a02375-b523-4d00-c78f-d77cde138c0a",
        "colab": {
          "base_uri": "https://localhost:8080/",
          "height": 34
        }
      },
      "source": [
        "(floating_point * 5) ** (1/2)"
      ],
      "execution_count": 0,
      "outputs": [
        {
          "output_type": "execute_result",
          "data": {
            "text/plain": [
              "5.0"
            ]
          },
          "metadata": {
            "tags": []
          },
          "execution_count": 15
        }
      ]
    },
    {
      "cell_type": "markdown",
      "metadata": {
        "id": "AGcIRglxDyEq",
        "colab_type": "text"
      },
      "source": [
        "# **Listas**"
      ]
    },
    {
      "cell_type": "code",
      "metadata": {
        "id": "8nez_GSxBFEa",
        "colab_type": "code",
        "colab": {}
      },
      "source": [
        "List = [1,2,3,4,5,6]"
      ],
      "execution_count": 0,
      "outputs": []
    },
    {
      "cell_type": "code",
      "metadata": {
        "id": "hhm5Uj7_BxQ7",
        "colab_type": "code",
        "outputId": "5da845ed-ea84-439e-fb45-32f86a0a87dd",
        "colab": {
          "base_uri": "https://localhost:8080/",
          "height": 34
        }
      },
      "source": [
        "List"
      ],
      "execution_count": 0,
      "outputs": [
        {
          "output_type": "execute_result",
          "data": {
            "text/plain": [
              "[1, 2, 3, 4, 5, 6]"
            ]
          },
          "metadata": {
            "tags": []
          },
          "execution_count": 19
        }
      ]
    },
    {
      "cell_type": "code",
      "metadata": {
        "id": "n7xSinw1BNDu",
        "colab_type": "code",
        "outputId": "4b56e331-8169-4d96-f863-3f219f472163",
        "colab": {
          "base_uri": "https://localhost:8080/",
          "height": 34
        }
      },
      "source": [
        "List[1]"
      ],
      "execution_count": 0,
      "outputs": [
        {
          "output_type": "execute_result",
          "data": {
            "text/plain": [
              "2"
            ]
          },
          "metadata": {
            "tags": []
          },
          "execution_count": 17
        }
      ]
    },
    {
      "cell_type": "markdown",
      "metadata": {
        "id": "9G2TfGwCD890",
        "colab_type": "text"
      },
      "source": [
        "# **Lista de string**"
      ]
    },
    {
      "cell_type": "code",
      "metadata": {
        "id": "HLXsjMBbBTGI",
        "colab_type": "code",
        "colab": {}
      },
      "source": [
        "selling_list = ['Maçã','Banana','Tomate','Limão']"
      ],
      "execution_count": 0,
      "outputs": []
    },
    {
      "cell_type": "code",
      "metadata": {
        "id": "BtmPqFD2CAJP",
        "colab_type": "code",
        "outputId": "93d50b93-f35a-4a38-e916-7028ea52e0b0",
        "colab": {
          "base_uri": "https://localhost:8080/",
          "height": 34
        }
      },
      "source": [
        "selling_list[-1]"
      ],
      "execution_count": 0,
      "outputs": [
        {
          "output_type": "execute_result",
          "data": {
            "text/plain": [
              "'Limão'"
            ]
          },
          "metadata": {
            "tags": []
          },
          "execution_count": 20
        }
      ]
    },
    {
      "cell_type": "code",
      "metadata": {
        "id": "8ygVXf77CvLA",
        "colab_type": "code",
        "outputId": "35f181cd-848f-4d69-8b3f-ec0453ad5e5a",
        "colab": {
          "base_uri": "https://localhost:8080/",
          "height": 34
        }
      },
      "source": [
        "selling_list[1:3]"
      ],
      "execution_count": 0,
      "outputs": [
        {
          "output_type": "execute_result",
          "data": {
            "text/plain": [
              "['Banana', 'Tomate']"
            ]
          },
          "metadata": {
            "tags": []
          },
          "execution_count": 21
        }
      ]
    },
    {
      "cell_type": "code",
      "metadata": {
        "id": "wr1ahpVpHHF0",
        "colab_type": "code",
        "outputId": "b609cea7-1981-4e25-bf69-e5c57b7f9ebc",
        "colab": {
          "base_uri": "https://localhost:8080/",
          "height": 34
        }
      },
      "source": [
        "selling_list[2].upper()"
      ],
      "execution_count": 0,
      "outputs": [
        {
          "output_type": "execute_result",
          "data": {
            "text/plain": [
              "'TOMATE'"
            ]
          },
          "metadata": {
            "tags": []
          },
          "execution_count": 24
        }
      ]
    },
    {
      "cell_type": "code",
      "metadata": {
        "id": "BP4te-L-HVql",
        "colab_type": "code",
        "outputId": "54965084-17ee-41e5-f3a0-86e570178111",
        "colab": {
          "base_uri": "https://localhost:8080/",
          "height": 34
        }
      },
      "source": [
        "selling_list[3].lower()"
      ],
      "execution_count": 0,
      "outputs": [
        {
          "output_type": "execute_result",
          "data": {
            "text/plain": [
              "'limão'"
            ]
          },
          "metadata": {
            "tags": []
          },
          "execution_count": 31
        }
      ]
    },
    {
      "cell_type": "code",
      "metadata": {
        "id": "powjuXIGHpym",
        "colab_type": "code",
        "outputId": "d00a4707-1076-423c-e328-6ea944ef1164",
        "colab": {
          "base_uri": "https://localhost:8080/",
          "height": 34
        }
      },
      "source": [
        "selling_list[3].upper()"
      ],
      "execution_count": 0,
      "outputs": [
        {
          "output_type": "execute_result",
          "data": {
            "text/plain": [
              "'LIMÃO'"
            ]
          },
          "metadata": {
            "tags": []
          },
          "execution_count": 42
        }
      ]
    },
    {
      "cell_type": "markdown",
      "metadata": {
        "id": "soJiCUw9Il50",
        "colab_type": "text"
      },
      "source": [
        "# **Dicionários**"
      ]
    },
    {
      "cell_type": "code",
      "metadata": {
        "id": "urUiPXP2Isk-",
        "colab_type": "code",
        "colab": {}
      },
      "source": [
        "dictionare = {1:'Gabriel', 2:'22', 3:{'Natal Lopes',3540} }"
      ],
      "execution_count": 0,
      "outputs": []
    },
    {
      "cell_type": "code",
      "metadata": {
        "id": "Np047dmFJeSl",
        "colab_type": "code",
        "outputId": "025ee69b-d48c-4814-f390-922ac3651c97",
        "colab": {
          "base_uri": "https://localhost:8080/",
          "height": 34
        }
      },
      "source": [
        "dictionare"
      ],
      "execution_count": 0,
      "outputs": [
        {
          "output_type": "execute_result",
          "data": {
            "text/plain": [
              "{1: 'Gabriel', 2: '22', 3: {3540, 'Natal Lopes'}}"
            ]
          },
          "metadata": {
            "tags": []
          },
          "execution_count": 56
        }
      ]
    },
    {
      "cell_type": "code",
      "metadata": {
        "id": "T2OXUSfmJkCO",
        "colab_type": "code",
        "outputId": "cf198b0b-3450-4df4-e1c9-d022be7920f0",
        "colab": {
          "base_uri": "https://localhost:8080/",
          "height": 34
        }
      },
      "source": [
        "dictionare[3]"
      ],
      "execution_count": 0,
      "outputs": [
        {
          "output_type": "execute_result",
          "data": {
            "text/plain": [
              "{3540, 'Natal Lopes'}"
            ]
          },
          "metadata": {
            "tags": []
          },
          "execution_count": 55
        }
      ]
    },
    {
      "cell_type": "code",
      "metadata": {
        "id": "f6qg6aJOYeD6",
        "colab_type": "code",
        "outputId": "4e6341ba-a0f0-46eb-912c-d99563031443",
        "colab": {
          "base_uri": "https://localhost:8080/",
          "height": 34
        }
      },
      "source": [
        "dictionare.keys()"
      ],
      "execution_count": 0,
      "outputs": [
        {
          "output_type": "execute_result",
          "data": {
            "text/plain": [
              "dict_keys([1, 2, 3])"
            ]
          },
          "metadata": {
            "tags": []
          },
          "execution_count": 58
        }
      ]
    },
    {
      "cell_type": "code",
      "metadata": {
        "id": "uz4KReciYmlb",
        "colab_type": "code",
        "outputId": "26691ac3-3e1b-4a81-cdd1-965598d3d6f8",
        "colab": {
          "base_uri": "https://localhost:8080/",
          "height": 34
        }
      },
      "source": [
        "dictionare.values()"
      ],
      "execution_count": 0,
      "outputs": [
        {
          "output_type": "execute_result",
          "data": {
            "text/plain": [
              "dict_values(['Gabriel', '22', {3540, 'Natal Lopes'}])"
            ]
          },
          "metadata": {
            "tags": []
          },
          "execution_count": 59
        }
      ]
    },
    {
      "cell_type": "markdown",
      "metadata": {
        "id": "jV8iT1m_Zt5o",
        "colab_type": "text"
      },
      "source": [
        "# **Booleans**"
      ]
    },
    {
      "cell_type": "code",
      "metadata": {
        "id": "38hj75ApZsIh",
        "colab_type": "code",
        "colab": {}
      },
      "source": [
        "v_true = True "
      ],
      "execution_count": 0,
      "outputs": []
    },
    {
      "cell_type": "code",
      "metadata": {
        "id": "txrO47QaZ6gn",
        "colab_type": "code",
        "colab": {}
      },
      "source": [
        "v_false = False\n"
      ],
      "execution_count": 0,
      "outputs": []
    },
    {
      "cell_type": "markdown",
      "metadata": {
        "id": "FMw8ypYgbG8b",
        "colab_type": "text"
      },
      "source": [
        "# **Operadores Relacionais**"
      ]
    },
    {
      "cell_type": "code",
      "metadata": {
        "id": "h-r3QcvwbMFx",
        "colab_type": "code",
        "outputId": "0a74ca7e-8352-4bef-8891-bcc671c39dae",
        "colab": {
          "base_uri": "https://localhost:8080/",
          "height": 34
        }
      },
      "source": [
        "1 == 1"
      ],
      "execution_count": 0,
      "outputs": [
        {
          "output_type": "execute_result",
          "data": {
            "text/plain": [
              "True"
            ]
          },
          "metadata": {
            "tags": []
          },
          "execution_count": 67
        }
      ]
    },
    {
      "cell_type": "code",
      "metadata": {
        "id": "4rhsQHkAbV3v",
        "colab_type": "code",
        "outputId": "31d87557-cfc2-41f6-b8db-0342a3605d1e",
        "colab": {
          "base_uri": "https://localhost:8080/",
          "height": 34
        }
      },
      "source": [
        "type(1)"
      ],
      "execution_count": 0,
      "outputs": [
        {
          "output_type": "execute_result",
          "data": {
            "text/plain": [
              "int"
            ]
          },
          "metadata": {
            "tags": []
          },
          "execution_count": 73
        }
      ]
    },
    {
      "cell_type": "code",
      "metadata": {
        "id": "4-Q11OBocE-o",
        "colab_type": "code",
        "outputId": "fe14afa9-996d-409a-b7be-18479ff79f55",
        "colab": {
          "base_uri": "https://localhost:8080/",
          "height": 34
        }
      },
      "source": [
        "1 != 1"
      ],
      "execution_count": 0,
      "outputs": [
        {
          "output_type": "execute_result",
          "data": {
            "text/plain": [
              "False"
            ]
          },
          "metadata": {
            "tags": []
          },
          "execution_count": 74
        }
      ]
    },
    {
      "cell_type": "code",
      "metadata": {
        "id": "1ARBjRAdcHUo",
        "colab_type": "code",
        "outputId": "32a3d847-9de5-47f2-b9e4-2ab21c9578e4",
        "colab": {
          "base_uri": "https://localhost:8080/",
          "height": 34
        }
      },
      "source": [
        "1 >= 3"
      ],
      "execution_count": 0,
      "outputs": [
        {
          "output_type": "execute_result",
          "data": {
            "text/plain": [
              "False"
            ]
          },
          "metadata": {
            "tags": []
          },
          "execution_count": 76
        }
      ]
    },
    {
      "cell_type": "code",
      "metadata": {
        "id": "0K9ij3wecM4R",
        "colab_type": "code",
        "outputId": "70ca2208-0297-47b3-87ee-cf820d412f2f",
        "colab": {
          "base_uri": "https://localhost:8080/",
          "height": 34
        }
      },
      "source": [
        "floating_point"
      ],
      "execution_count": 0,
      "outputs": [
        {
          "output_type": "execute_result",
          "data": {
            "text/plain": [
              "5.0"
            ]
          },
          "metadata": {
            "tags": []
          },
          "execution_count": 77
        }
      ]
    },
    {
      "cell_type": "code",
      "metadata": {
        "id": "rAvXBB5WcRnb",
        "colab_type": "code",
        "outputId": "59716347-4e72-48ed-bd4a-7a720359ad09",
        "colab": {
          "base_uri": "https://localhost:8080/",
          "height": 34
        }
      },
      "source": [
        "height"
      ],
      "execution_count": 0,
      "outputs": [
        {
          "output_type": "execute_result",
          "data": {
            "text/plain": [
              "1.82"
            ]
          },
          "metadata": {
            "tags": []
          },
          "execution_count": 78
        }
      ]
    },
    {
      "cell_type": "code",
      "metadata": {
        "id": "jhdNOVuycTww",
        "colab_type": "code",
        "outputId": "b5077704-34f8-4282-cdba-700995847538",
        "colab": {
          "base_uri": "https://localhost:8080/",
          "height": 34
        }
      },
      "source": [
        "floating_point >= height"
      ],
      "execution_count": 0,
      "outputs": [
        {
          "output_type": "execute_result",
          "data": {
            "text/plain": [
              "True"
            ]
          },
          "metadata": {
            "tags": []
          },
          "execution_count": 79
        }
      ]
    },
    {
      "cell_type": "code",
      "metadata": {
        "id": "4G4Kw396cZbS",
        "colab_type": "code",
        "outputId": "ffc7d598-7823-44c6-b9a9-cfc7a8d624ab",
        "colab": {
          "base_uri": "https://localhost:8080/",
          "height": 34
        }
      },
      "source": [
        "floating_point <= height"
      ],
      "execution_count": 0,
      "outputs": [
        {
          "output_type": "execute_result",
          "data": {
            "text/plain": [
              "False"
            ]
          },
          "metadata": {
            "tags": []
          },
          "execution_count": 80
        }
      ]
    },
    {
      "cell_type": "code",
      "metadata": {
        "id": "MB0F-HAvcqop",
        "colab_type": "code",
        "outputId": "3c03bbab-4721-4f08-a52b-3be58407c830",
        "colab": {
          "base_uri": "https://localhost:8080/",
          "height": 51
        }
      },
      "source": [
        "input()"
      ],
      "execution_count": 0,
      "outputs": [
        {
          "output_type": "stream",
          "text": [
            "Gabriel\n"
          ],
          "name": "stdout"
        },
        {
          "output_type": "execute_result",
          "data": {
            "text/plain": [
              "'Gabriel'"
            ]
          },
          "metadata": {
            "tags": []
          },
          "execution_count": 81
        }
      ]
    },
    {
      "cell_type": "markdown",
      "metadata": {
        "id": "U1eVX6difE80",
        "colab_type": "text"
      },
      "source": [
        "# **Operadores Logicos**"
      ]
    },
    {
      "cell_type": "code",
      "metadata": {
        "id": "cQq3JZT_e8tx",
        "colab_type": "code",
        "outputId": "fd884cbe-986f-4442-8434-38c7dcc0df91",
        "colab": {
          "base_uri": "https://localhost:8080/",
          "height": 34
        }
      },
      "source": [
        "not v_true"
      ],
      "execution_count": 0,
      "outputs": [
        {
          "output_type": "execute_result",
          "data": {
            "text/plain": [
              "False"
            ]
          },
          "metadata": {
            "tags": []
          },
          "execution_count": 82
        }
      ]
    },
    {
      "cell_type": "code",
      "metadata": {
        "id": "FsydnwB3fAZ7",
        "colab_type": "code",
        "outputId": "fcf4a5a1-f45a-461e-e20c-c31c15b864cf",
        "colab": {
          "base_uri": "https://localhost:8080/",
          "height": 34
        }
      },
      "source": [
        "not v_false"
      ],
      "execution_count": 0,
      "outputs": [
        {
          "output_type": "execute_result",
          "data": {
            "text/plain": [
              "True"
            ]
          },
          "metadata": {
            "tags": []
          },
          "execution_count": 83
        }
      ]
    },
    {
      "cell_type": "code",
      "metadata": {
        "id": "eFqgjhrYf2da",
        "colab_type": "code",
        "outputId": "7a2040d9-ec6b-4e0c-c27f-391d61ebb81c",
        "colab": {
          "base_uri": "https://localhost:8080/",
          "height": 34
        }
      },
      "source": [
        "(1 == 1) & (2 == 2)"
      ],
      "execution_count": 0,
      "outputs": [
        {
          "output_type": "execute_result",
          "data": {
            "text/plain": [
              "True"
            ]
          },
          "metadata": {
            "tags": []
          },
          "execution_count": 84
        }
      ]
    },
    {
      "cell_type": "code",
      "metadata": {
        "id": "aRiUQoD1f_X2",
        "colab_type": "code",
        "outputId": "bf8754da-80c3-44f2-c589-0c41c944657e",
        "colab": {
          "base_uri": "https://localhost:8080/",
          "height": 34
        }
      },
      "source": [
        "(1 == 3) or (2 == 2)"
      ],
      "execution_count": 0,
      "outputs": [
        {
          "output_type": "execute_result",
          "data": {
            "text/plain": [
              "True"
            ]
          },
          "metadata": {
            "tags": []
          },
          "execution_count": 86
        }
      ]
    },
    {
      "cell_type": "code",
      "metadata": {
        "id": "5jTosMgDgP6C",
        "colab_type": "code",
        "outputId": "f2f40fb4-094f-4cee-a0b8-ca954b6d4def",
        "colab": {
          "base_uri": "https://localhost:8080/",
          "height": 34
        }
      },
      "source": [
        "(1 == 3) & (2 == 2)"
      ],
      "execution_count": 0,
      "outputs": [
        {
          "output_type": "execute_result",
          "data": {
            "text/plain": [
              "False"
            ]
          },
          "metadata": {
            "tags": []
          },
          "execution_count": 87
        }
      ]
    },
    {
      "cell_type": "code",
      "metadata": {
        "id": "JuCoPRqxgXXg",
        "colab_type": "code",
        "outputId": "e2b937be-bea6-4115-c237-a9053506ce96",
        "colab": {
          "base_uri": "https://localhost:8080/",
          "height": 34
        }
      },
      "source": [
        "(1 == 3) or (2 == 3)"
      ],
      "execution_count": 0,
      "outputs": [
        {
          "output_type": "execute_result",
          "data": {
            "text/plain": [
              "False"
            ]
          },
          "metadata": {
            "tags": []
          },
          "execution_count": 90
        }
      ]
    },
    {
      "cell_type": "markdown",
      "metadata": {
        "id": "xyErrvVnhgZO",
        "colab_type": "text"
      },
      "source": [
        "# **Estruturas Condicionais simples e compostas**"
      ]
    },
    {
      "cell_type": "code",
      "metadata": {
        "id": "p0Qk5fp_hoyB",
        "colab_type": "code",
        "outputId": "9cab9637-bd98-4d02-bc86-22fb53d4a53a",
        "colab": {
          "base_uri": "https://localhost:8080/",
          "height": 34
        }
      },
      "source": [
        "if (age == 15 ):\n",
        "    print('adolecente')\n",
        "elif (age == 17):\n",
        "    print('vc não tem mais 15 anos, mais ainda é adolecente')\n",
        "    number += 2\n",
        "else:\n",
        "    print('vc ja é adulto')"
      ],
      "execution_count": 0,
      "outputs": [
        {
          "output_type": "stream",
          "text": [
            "vc não tem mais 15 anos, mais ainda é adolecente\n"
          ],
          "name": "stdout"
        }
      ]
    },
    {
      "cell_type": "markdown",
      "metadata": {
        "id": "HN0GCGbQnK2I",
        "colab_type": "text"
      },
      "source": [
        "# **Input()**"
      ]
    },
    {
      "cell_type": "code",
      "metadata": {
        "id": "7_wsK0TSnOn4",
        "colab_type": "code",
        "outputId": "8a566b71-9144-4c94-8c38-733d1c1b8610",
        "colab": {
          "base_uri": "https://localhost:8080/",
          "height": 34
        }
      },
      "source": [
        "nome_input = input('nome : ')"
      ],
      "execution_count": 0,
      "outputs": [
        {
          "output_type": "stream",
          "text": [
            "nome : Gabriel Rodrigues\n"
          ],
          "name": "stdout"
        }
      ]
    },
    {
      "cell_type": "markdown",
      "metadata": {
        "id": "-ZxzUc51n7pi",
        "colab_type": "text"
      },
      "source": [
        "# **Cast**"
      ]
    },
    {
      "cell_type": "code",
      "metadata": {
        "id": "Hg8yYxAWn-o3",
        "colab_type": "code",
        "colab": {}
      },
      "source": [
        "var_input = int(input('num: '))"
      ],
      "execution_count": 0,
      "outputs": []
    },
    {
      "cell_type": "code",
      "metadata": {
        "id": "_S56riByoI9Z",
        "colab_type": "code",
        "colab": {}
      },
      "source": [
        "var_input + 2"
      ],
      "execution_count": 0,
      "outputs": []
    },
    {
      "cell_type": "markdown",
      "metadata": {
        "id": "lsUCVpA-xHpk",
        "colab_type": "text"
      },
      "source": [
        "# **Functions**"
      ]
    },
    {
      "cell_type": "code",
      "metadata": {
        "id": "KNDXyFJ3xKm6",
        "colab_type": "code",
        "colab": {}
      },
      "source": [
        "def soma(num1,num2):\n",
        "  result = num1 + num2\n",
        "  return result\n"
      ],
      "execution_count": 0,
      "outputs": []
    },
    {
      "cell_type": "code",
      "metadata": {
        "id": "m7TNsqT2xbH3",
        "colab_type": "code",
        "colab": {}
      },
      "source": [
        "soma(1,2)"
      ],
      "execution_count": 0,
      "outputs": []
    },
    {
      "cell_type": "code",
      "metadata": {
        "id": "wNM0WWj-xkOq",
        "colab_type": "code",
        "colab": {}
      },
      "source": [
        "def sub(num1,num2):\n",
        "  result = num1 - num2\n",
        "  return result"
      ],
      "execution_count": 0,
      "outputs": []
    },
    {
      "cell_type": "code",
      "metadata": {
        "id": "SLhMZ0yLxs2I",
        "colab_type": "code",
        "colab": {}
      },
      "source": [
        "sub(1,2)"
      ],
      "execution_count": 0,
      "outputs": []
    },
    {
      "cell_type": "code",
      "metadata": {
        "id": "qsXhh-J3x314",
        "colab_type": "code",
        "colab": {}
      },
      "source": [
        "def message():\n",
        "  print('Aki jas um print')"
      ],
      "execution_count": 0,
      "outputs": []
    },
    {
      "cell_type": "code",
      "metadata": {
        "id": "dAoaVTgQyPqy",
        "colab_type": "code",
        "colab": {}
      },
      "source": [
        "message()"
      ],
      "execution_count": 0,
      "outputs": []
    },
    {
      "cell_type": "code",
      "metadata": {
        "id": "GyV2LEFUyTIm",
        "colab_type": "code",
        "colab": {}
      },
      "source": [
        "def r_message():\n",
        "  return 'função sem parâmetro e com retorno'"
      ],
      "execution_count": 0,
      "outputs": []
    },
    {
      "cell_type": "code",
      "metadata": {
        "id": "1WhgNKZL0eGP",
        "colab_type": "code",
        "colab": {}
      },
      "source": [
        "r_m = r_message()"
      ],
      "execution_count": 0,
      "outputs": []
    },
    {
      "cell_type": "code",
      "metadata": {
        "id": "e-2YUxZW0nzC",
        "colab_type": "code",
        "colab": {}
      },
      "source": [
        "r_m"
      ],
      "execution_count": 0,
      "outputs": []
    },
    {
      "cell_type": "code",
      "metadata": {
        "id": "2phEMmp5mlTc",
        "colab_type": "code",
        "colab": {}
      },
      "source": [
        "def par_ou_impar(num = 2):\n",
        "    if(num % 2 == 0):\n",
        "      print('O numero é par !')\n",
        "    else:\n",
        "      print('O numero é impar')\n"
      ],
      "execution_count": 0,
      "outputs": []
    },
    {
      "cell_type": "code",
      "metadata": {
        "id": "kI4KW6ilo6MO",
        "colab_type": "code",
        "colab": {}
      },
      "source": [
        "par_ou_impar(7)"
      ],
      "execution_count": 0,
      "outputs": []
    },
    {
      "cell_type": "code",
      "metadata": {
        "id": "4InfsmQsQISk",
        "colab_type": "code",
        "colab": {}
      },
      "source": [
        "par_ou_impar()"
      ],
      "execution_count": 0,
      "outputs": []
    },
    {
      "cell_type": "code",
      "metadata": {
        "id": "R7xL6JCWkwvo",
        "colab_type": "code",
        "colab": {}
      },
      "source": [
        "def calcx(num1, num2 = 3):\n",
        "  soma = num1 + num2\n",
        "  sub = num1 - num2\n",
        "  mux = num1 * num2 \n",
        "  div = num1 / num2\n",
        "\n",
        "  return soma,sub,mux,div"
      ],
      "execution_count": 0,
      "outputs": []
    },
    {
      "cell_type": "code",
      "metadata": {
        "id": "hMZTBGtQlE6_",
        "colab_type": "code",
        "colab": {}
      },
      "source": [
        "calcx(6)"
      ],
      "execution_count": 0,
      "outputs": []
    },
    {
      "cell_type": "markdown",
      "metadata": {
        "id": "zRc8jXu-YxMd",
        "colab_type": "text"
      },
      "source": [
        "# **Exercicios de Fixação**"
      ]
    },
    {
      "cell_type": "markdown",
      "metadata": {
        "id": "yGBYpmNOePL9",
        "colab_type": "text"
      },
      "source": [
        "**Exercicio 1**\n",
        "\n",
        "---\n",
        "\n"
      ]
    },
    {
      "cell_type": "code",
      "metadata": {
        "id": "iv6teyNpYz0q",
        "colab_type": "code",
        "colab": {}
      },
      "source": [
        "## Crie um programa que peça 2 numeros e imprima o maior deles\n",
        "def exec():\n",
        "    print(' Digite o 1° numero ')\n",
        "    num1 = input('num1:')\n",
        "    print(' Digite o 2° numero ')\n",
        "    num2 = input('num2:')\n",
        "\n",
        "    if(num2 >= num1):\n",
        "      print('O '+num2+' é maior ou igual à '+ num1)\n",
        "    else:\n",
        "      print('O '+num1+' é maior ou igual à '+ num2)"
      ],
      "execution_count": 0,
      "outputs": []
    },
    {
      "cell_type": "code",
      "metadata": {
        "id": "7sY6rhiKdg7H",
        "colab_type": "code",
        "colab": {}
      },
      "source": [
        "exec()"
      ],
      "execution_count": 0,
      "outputs": []
    },
    {
      "cell_type": "markdown",
      "metadata": {
        "id": "gtD-5INLeT8k",
        "colab_type": "text"
      },
      "source": [
        "**Exercicio 2**\n",
        "\n",
        "---\n",
        "\n"
      ]
    },
    {
      "cell_type": "code",
      "metadata": {
        "id": "euHn9ns_eZ7u",
        "colab_type": "code",
        "colab": {}
      },
      "source": [
        "## Crie um programa que verifica se uma letra digitada é \"F\" ou \"M\".\n",
        "## conforme a letra imprimir.\n",
        "def sexo():\n",
        "  sex = input('Digite uma letra: ')\n",
        "\n",
        "  if(sex == 'F' or sex == 'f'):\n",
        "    print('Feminino')\n",
        "  elif(sex == 'M' or sex == 'm'):\n",
        "    print('Masculino')\n",
        "  else:\n",
        "    print('sexo invalido')    \n",
        "  "
      ],
      "execution_count": 0,
      "outputs": []
    },
    {
      "cell_type": "code",
      "metadata": {
        "id": "G65UulaWfbaW",
        "colab_type": "code",
        "colab": {}
      },
      "source": [
        "sexo()"
      ],
      "execution_count": 0,
      "outputs": []
    },
    {
      "cell_type": "markdown",
      "metadata": {
        "id": "1I5WreuIfyAV",
        "colab_type": "text"
      },
      "source": [
        "**Exercicio 3**\n",
        "\n",
        "---\n",
        "\n"
      ]
    },
    {
      "cell_type": "code",
      "metadata": {
        "id": "H-Dh9_3Efv9c",
        "colab_type": "code",
        "colab": {}
      },
      "source": [
        "## Crie um programa que pede duas notas de um aluno.\n",
        "## Em seguida, ele deve calcular a média do aluno \n",
        "## e dar o seguinte resultado : Aprovado , se nota >= 7\n",
        "## Reprovado se media < 7\n",
        "## Aprovado com distinção , se média >= 10\n",
        "\n",
        "n1 = int(input('digite a primeira nota: '))\n",
        "n2 = int(input('digite a segunda nota: '))\n",
        "\n",
        "media = (n1+n2)/2\n",
        "\n",
        "if(media >= 7 and media <= 9):\n",
        "  print('Aprovado, parabens :)')\n",
        "elif(media == 10):\n",
        "  print('Aprovado com Louvor')\n",
        "elif(media <= 7 and media >= 5):\n",
        "  print('Corre que no proximo bimestre da pra recuperar')\n",
        "else:\n",
        "  print('Reprovado, aproveita que a DP é de graça')"
      ],
      "execution_count": 0,
      "outputs": []
    },
    {
      "cell_type": "code",
      "metadata": {
        "id": "1toNw5mqpIQA",
        "colab_type": "code",
        "colab": {}
      },
      "source": [
        "def qual_o_triangulo():\n",
        "    num1 = int(input('Lado1:'))\n",
        "    num2 = int(input('Lado2:'))\n",
        "    num3 = int(input('Lado3:'))\n",
        "\n",
        "    if(num1+num2 > num3 and num2 + num3 > num1 and num3+num1>num2 ):\n",
        "      if(num1 == num2 and num2 == num3):\n",
        "        print('triângulo equilátero')\n",
        "      elif(num1 == num2 or num2 == num3 or num3 == num1):\n",
        "        print('triângulo isósceles')\n",
        "      elif(num1 != num2 and num2 != num3 and num3 != num1):\n",
        "        print('triangulo escaleno')\n",
        "    else:\n",
        "        print('não é triangulo')\n",
        "    "
      ],
      "execution_count": 0,
      "outputs": []
    },
    {
      "cell_type": "code",
      "metadata": {
        "id": "_AxYTcM-rHPA",
        "colab_type": "code",
        "colab": {}
      },
      "source": [
        "qual_o_triangulo()"
      ],
      "execution_count": 0,
      "outputs": []
    }
  ]
}